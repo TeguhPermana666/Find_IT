{
 "cells": [
  {
   "cell_type": "markdown",
   "metadata": {},
   "source": [
    "# Team\n",
    "- Agung Adi Purwa\n",
    "- Teguh\n",
    "- Angelina\n",
    "- Kompiang"
   ]
  },
  {
   "cell_type": "code",
   "execution_count": 2,
   "metadata": {},
   "outputs": [],
   "source": [
    "# load data\n",
    "import os\n",
    "import urllib.request\n",
    "soal_path=os.path.join(\"datasets\",\"FindIT\")\n",
    "download_url=\"https://www.kaggle.com/competitions/findit2022/data\"\n",
    "def fetch_data(url=download_url,path=soal_path):\n",
    "    if not os.path.isdir(path):\n",
    "        os.makedirs(path)\n",
    "    for filename in (\"predict-case.csv\",\"sample_submission.csv\",\"train.csv\"):\n",
    "        file_path=os.path.join(path,filename)\n",
    "        if not os.path.isfile(file_path):\n",
    "            print(\"Download\",filename)\n",
    "            urllib.request.urlretrieve(url + filename,file_path)\n",
    "  \n"
   ]
  },
  {
   "cell_type": "code",
   "execution_count": 3,
   "metadata": {},
   "outputs": [
    {
     "name": "stdout",
     "output_type": "stream",
     "text": [
      "Download predict-case.csv\n",
      "Download sample_submission.csv\n",
      "Download train.csv\n"
     ]
    }
   ],
   "source": [
    "# download data\n",
    "fetch_data()"
   ]
  },
  {
   "cell_type": "code",
   "execution_count": null,
   "metadata": {},
   "outputs": [],
   "source": []
  }
 ],
 "metadata": {
  "interpreter": {
   "hash": "7e8f3344581b59a1f858ba6e3a5baff315b945b56ca2de45624d8430f0d29c18"
  },
  "kernelspec": {
   "display_name": "Python 3.9.9 ('env': venv)",
   "language": "python",
   "name": "python3"
  },
  "language_info": {
   "codemirror_mode": {
    "name": "ipython",
    "version": 3
   },
   "file_extension": ".py",
   "mimetype": "text/x-python",
   "name": "python",
   "nbconvert_exporter": "python",
   "pygments_lexer": "ipython3",
   "version": "3.9.9"
  },
  "orig_nbformat": 4
 },
 "nbformat": 4,
 "nbformat_minor": 2
}
