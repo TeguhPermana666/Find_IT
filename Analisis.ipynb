{
 "cells": [
  {
   "cell_type": "markdown",
   "metadata": {},
   "source": [
    "# Team\n",
    "- Agung Adipurwa\n",
    "- Teguh\n",
    "- Angelina"
   ]
  },
  {
   "cell_type": "markdown",
   "metadata": {},
   "source": [
    "# Load Data"
   ]
  },
  {
   "cell_type": "code",
   "execution_count": null,
   "metadata": {},
   "outputs": [],
   "source": [
    "# load data\n",
    "import os\n",
    "import urllib.request\n",
    "soal_path=os.path.join(\"datasets\",\"FindIT\")\n",
    "download_url=\"https://www.kaggle.com/competitions/findit2022/data\"\n",
    "def fetch_data(url=download_url,path=soal_path):\n",
    "    if not os.path.isdir(path):\n",
    "        os.makedirs(path)\n",
    "    for filename in (\"predict-case.csv\",\"sample_submission.csv\",\"train.csv\"):\n",
    "        file_path=os.path.join(path,filename)\n",
    "        if not os.path.isfile(file_path):\n",
    "            print(\"Download\",filename)\n",
    "            urllib.request.urlretrieve(url + filename,file_path)\n",
    "  \n"
   ]
  },
  {
   "cell_type": "code",
   "execution_count": null,
   "metadata": {},
   "outputs": [],
   "source": [
    "# download data\n",
    "fetch_data()"
   ]
  },
  {
   "cell_type": "code",
   "execution_count": null,
   "metadata": {},
   "outputs": [],
   "source": [
    "# call data\n",
    "import pandas as pd\n",
    "def load_soal_data(name,path=soal_path):\n",
    "    csv_path=os.path.join(path,name)\n",
    "    return pd.read_csv(csv_path, delimiter='|')"
   ]
  },
  {
   "cell_type": "code",
   "execution_count": null,
   "metadata": {},
   "outputs": [],
   "source": [
    "predict_case=load_soal_data(\"predict-case.csv\")\n",
    "sample_submission=load_soal_data(\"sample_submission.csv\")\n",
    "train_data=load_soal_data(\"train.csv\")"
   ]
  },
  {
   "cell_type": "markdown",
   "metadata": {},
   "source": [
    "# EDA"
   ]
  },
  {
   "cell_type": "code",
   "execution_count": null,
   "metadata": {},
   "outputs": [],
   "source": [
    "print(predict_case.shape)\n",
    "print(sample_submission.shape)\n",
    "print(train_data.shape)"
   ]
  },
  {
   "cell_type": "code",
   "execution_count": null,
   "metadata": {},
   "outputs": [],
   "source": [
    "#Check NaN value in train_data\n",
    "import matplotlib.pyplot as plt\n",
    "import seaborn as sns\n",
    "y = train_data.isnull().sum().sort_values(ascending=False)[:].index\n",
    "x = train_data.isnull().sum().sort_values(ascending=False)[:]\n",
    "print(x)\n",
    "plt.figure(figsize=(8, 8))\n",
    "sns.barplot(x, y)\n",
    "plt.title(\"Counts of Missing Value: Data Train\", size=20)\n"
   ]
  },
  {
   "cell_type": "code",
   "execution_count": null,
   "metadata": {},
   "outputs": [],
   "source": [
    "#Check NaN value in test_data\n",
    "y = predict_case.isnull().sum().sort_values(ascending=False)[:].index\n",
    "x = predict_case.isnull().sum().sort_values(ascending=False)[:]\n",
    "print(x)\n",
    "plt.figure(figsize=(8, 8))\n",
    "sns.barplot(x, y)\n",
    "plt.title(\"Counts of Missing Value: Data Train\", size=20)\n"
   ]
  },
  {
   "cell_type": "code",
   "execution_count": null,
   "metadata": {},
   "outputs": [],
   "source": [
    "train_data[\"job_title\"] = train_data[\"job_title\"].apply(lambda item: str(item).lower())\n",
    "len(train_data[\"job_title\"].unique())\n"
   ]
  },
  {
   "cell_type": "code",
   "execution_count": null,
   "metadata": {},
   "outputs": [],
   "source": [
    "train_data[\"job_title\"].value_counts()[:30]"
   ]
  },
  {
   "cell_type": "code",
   "execution_count": null,
   "metadata": {},
   "outputs": [],
   "source": [
    "train_data[\"location\"] = train_data[\"location\"].apply(\n",
    "    lambda item: str(item).lower())\n",
    "len(train_data[\"location\"].unique())"
   ]
  },
  {
   "cell_type": "code",
   "execution_count": null,
   "metadata": {},
   "outputs": [],
   "source": [
    "train_data[\"location\"].value_counts()[:60]\n"
   ]
  },
  {
   "cell_type": "code",
   "execution_count": null,
   "metadata": {},
   "outputs": [],
   "source": [
    "train_data[\"employment_type\"] = train_data[\"employment_type\"].apply(\n",
    "    lambda item: str(item).lower())\n",
    "len(train_data[\"employment_type\"].unique())\n",
    "train_data[\"employment_type\"].value_counts()[:60]\n"
   ]
  },
  {
   "cell_type": "code",
   "execution_count": null,
   "metadata": {},
   "outputs": [],
   "source": [
    "train_data[\"employment_type\"].value_counts().plot(kind=\"bar\",)\n"
   ]
  },
  {
   "cell_type": "code",
   "execution_count": null,
   "metadata": {},
   "outputs": [],
   "source": [
    "train_data[\"salary_currency\"] = train_data[\"salary_currency\"].apply(\n",
    "    lambda item: str(item).lower())\n",
    "len(train_data[\"salary_currency\"].unique())\n",
    "train_data[\"salary_currency\"].value_counts()[:60]"
   ]
  },
  {
   "cell_type": "markdown",
   "metadata": {},
   "source": [
    "# Cleaning Data"
   ]
  },
  {
   "cell_type": "code",
   "execution_count": null,
   "metadata": {},
   "outputs": [],
   "source": [
    "#Cleaning All NaN rows in field salary\n",
    "temp_train = train_data.dropna(subset=[\"employment_type\"])\n",
    "drop_NaN_train = [\"company_industry\", \"experience_level\",\n",
    "                  \"company_size\", \"job_benefits\", \"company_process_time\", \"salary\"]\n",
    "for i in drop_NaN_train:\n",
    "    temp_train = temp_train.dropna(subset=i)\n",
    "temp_test = predict_case.dropna(subset=[\"company_industry\"])\n",
    "drop_NaN_test = [\"company_industry\", \"experience_level\",\n",
    "                 \"company_size\", \"job_benefits\", \"company_process_time\"]\n",
    "for i in drop_NaN_test:\n",
    "    temp_test = temp_test.dropna(subset=i)\n"
   ]
  },
  {
   "cell_type": "code",
   "execution_count": null,
   "metadata": {},
   "outputs": [],
   "source": [
    "print(\"Clean Train Data\\n{}\".format(\n",
    "    temp_train.isnull().sum().sort_values(ascending=False)[:]))\n",
    "print(\"Clean Test Data\\n{}\".format(\n",
    "    temp_test.isnull().sum().sort_values(ascending=False)[:]))\n"
   ]
  },
  {
   "cell_type": "code",
   "execution_count": null,
   "metadata": {},
   "outputs": [],
   "source": [
    "print(temp_train.shape)\n",
    "print(temp_test.shape)"
   ]
  },
  {
   "cell_type": "code",
   "execution_count": null,
   "metadata": {},
   "outputs": [],
   "source": [
    "temp_train"
   ]
  },
  {
   "cell_type": "markdown",
   "metadata": {},
   "source": [
    "Train data rubah si usd salary dan currenct salary  "
   ]
  },
  {
   "cell_type": "code",
   "execution_count": null,
   "metadata": {},
   "outputs": [],
   "source": [
    "temp_train.loc[(temp_train[\"salary_currency\"]==\"usd\"),\"salary\"]=temp_train[temp_train[\"salary_currency\"]==\"usd\"][[\"salary\"]].apply(lambda i : i * 14000 )"
   ]
  },
  {
   "cell_type": "code",
   "execution_count": null,
   "metadata": {},
   "outputs": [],
   "source": [
    "temp_train[temp_train[\"salary_currency\"]==\"usd\"][\"salary\"]"
   ]
  },
  {
   "cell_type": "code",
   "execution_count": null,
   "metadata": {},
   "outputs": [],
   "source": [
    "temp_train.loc[(temp_train[\"salary_currency\"]==\"usd\"),\"salary_currency\"]=\"idr\""
   ]
  },
  {
   "cell_type": "code",
   "execution_count": null,
   "metadata": {},
   "outputs": [],
   "source": [
    "temp_train[temp_train[\"salary_currency\"]==\"usd\"][\"salary_currency\"]"
   ]
  },
  {
   "cell_type": "markdown",
   "metadata": {},
   "source": [
    "Test data rubah salary_currency"
   ]
  },
  {
   "cell_type": "code",
   "execution_count": null,
   "metadata": {},
   "outputs": [],
   "source": [
    "temp_test[temp_test[\"salary_currency\"]==\"usd\"][\"salary_currency\"]"
   ]
  },
  {
   "cell_type": "markdown",
   "metadata": {},
   "source": [
    "tipe experience_level dan company_process_time diubah menjdi int"
   ]
  },
  {
   "cell_type": "code",
   "execution_count": null,
   "metadata": {},
   "outputs": [],
   "source": [
    "temp_train['experience_level'] = temp_train['experience_level'].str[:2]\n",
    "temp_train['company_process_time'] = temp_train['company_process_time'].str[:2]"
   ]
  },
  {
   "cell_type": "code",
   "execution_count": null,
   "metadata": {},
   "outputs": [],
   "source": [
    "temp_train['experience_level'] = temp_train['experience_level'].astype(int)\n",
    "temp_train['company_process_time'] = temp_train['company_process_time'].astype(int)"
   ]
  }
 ],
 "metadata": {
  "interpreter": {
   "hash": "7e8f3344581b59a1f858ba6e3a5baff315b945b56ca2de45624d8430f0d29c18"
  },
  "kernelspec": {
   "display_name": "Python 3.9.9 ('env': venv)",
   "language": "python",
   "name": "python3"
  },
  "language_info": {
   "codemirror_mode": {
    "name": "ipython",
    "version": 3
   },
   "file_extension": ".py",
   "mimetype": "text/x-python",
   "name": "python",
   "nbconvert_exporter": "python",
   "pygments_lexer": "ipython3",
   "version": "3.10.4"
  },
  "orig_nbformat": 4
 },
 "nbformat": 4,
 "nbformat_minor": 2
}
