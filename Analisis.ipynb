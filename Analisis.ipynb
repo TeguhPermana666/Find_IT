{
 "cells": [
  {
   "cell_type": "markdown",
   "metadata": {},
   "source": [
    "# Team\n",
    "- Agung Adipurwa\n",
    "- Teguh\n",
    "- Angelina"
   ]
  },
  {
   "cell_type": "code",
   "execution_count": 2,
   "metadata": {},
   "outputs": [],
   "source": [
    "# load data\n",
    "import os\n",
    "import urllib.request\n",
    "soal_path=os.path.join(\"datasets\",\"FindIT\")\n",
    "download_url=\"https://www.kaggle.com/competitions/findit2022/data\"\n",
    "def fetch_data(url=download_url,path=soal_path):\n",
    "    if not os.path.isdir(path):\n",
    "        os.makedirs(path)\n",
    "    for filename in (\"predict-case.csv\",\"sample_submission.csv\",\"train.csv\"):\n",
    "        file_path=os.path.join(path,filename)\n",
    "        if not os.path.isfile(file_path):\n",
    "            print(\"Download\",filename)\n",
    "            urllib.request.urlretrieve(url + filename,file_path)\n",
    "  \n"
   ]
  },
  {
   "cell_type": "code",
   "execution_count": 3,
   "metadata": {},
   "outputs": [],
   "source": [
    "# download data\n",
    "fetch_data()"
   ]
  },
  {
   "cell_type": "code",
   "execution_count": 4,
   "metadata": {},
   "outputs": [],
   "source": [
    "# call data\n",
    "import pandas as pd\n",
    "def load_soal_data(name,path=soal_path):\n",
    "    csv_path=os.path.join(path,name)\n",
    "    return pd.read_csv(csv_path, delimiter='|')"
   ]
  },
  {
   "cell_type": "code",
   "execution_count": 5,
   "metadata": {},
   "outputs": [],
   "source": [
    "predict_case=load_soal_data(\"predict-case.csv\")\n",
    "sample_sibmission=load_soal_data(\"sample_submission.csv\")\n",
    "train_data=load_soal_data(\"train.csv\")"
   ]
  },
  {
   "cell_type": "code",
   "execution_count": 6,
   "metadata": {},
   "outputs": [
    {
     "name": "stdout",
     "output_type": "stream",
     "text": [
      "(3000, 14)\n",
      "(3000, 1)\n",
      "(31746, 15)\n"
     ]
    }
   ],
   "source": [
    "print(predict_case.shape)\n",
    "print(sample_sibmission.shape)\n",
    "print(train_data.shape)"
   ]
  },
  {
   "cell_type": "code",
   "execution_count": 7,
   "metadata": {},
   "outputs": [
    {
     "name": "stdout",
     "output_type": "stream",
     "text": [
      "salary                  25394\n",
      "company_process_time     9144\n",
      "job_benefits             6667\n",
      "company_size             5163\n",
      "experience_level         4292\n",
      "company_industry         1514\n",
      "employment_type          1344\n",
      "salary_currency             4\n",
      "job_description             1\n",
      "id                          0\n",
      "job_title                   0\n",
      "location                    0\n",
      "career_level                0\n",
      "education_level             0\n",
      "job_function                0\n",
      "dtype: int64\n"
     ]
    },
    {
     "name": "stderr",
     "output_type": "stream",
     "text": [
      "d:\\Find_IT\\env\\lib\\site-packages\\seaborn\\_decorators.py:36: FutureWarning: Pass the following variables as keyword args: x, y. From version 0.12, the only valid positional argument will be `data`, and passing other arguments without an explicit keyword will result in an error or misinterpretation.\n",
      "  warnings.warn(\n"
     ]
    },
    {
     "data": {
      "text/plain": [
       "Text(0.5, 1.0, 'Counts of Missing Value')"
      ]
     },
     "execution_count": 7,
     "metadata": {},
     "output_type": "execute_result"
    },
    {
     "data": {
      "image/png": "[encoded data removed]",
      "text/plain": [
       "<Figure size 576x576 with 1 Axes>"
      ]
     },
     "metadata": {
      "needs_background": "light"
     },
     "output_type": "display_data"
    }
   ],
   "source": [
    "import matplotlib.pyplot as plt\n",
    "import seaborn as sns\n",
    "y = train_data.isnull().sum().sort_values(ascending=False)[:].index\n",
    "x = train_data.isnull().sum().sort_values(ascending=False)[:]\n",
    "print(x)\n",
    "plt.figure(figsize=(8,8))\n",
    "sns.barplot(x,y)\n",
    "plt.title(\"Counts of Missing Value\",size=20)\n"
   ]
  },
  {
   "cell_type": "code",
   "execution_count": 8,
   "metadata": {},
   "outputs": [],
   "source": [
    "# cek frame\n",
    "# print(train_data.head(1))\n",
    "# print(predict_case.head(1))\n",
    "# print(sample_sibmission.head(1))"
   ]
  },
  {
   "cell_type": "code",
   "execution_count": 9,
   "metadata": {},
   "outputs": [
    {
     "name": "stdout",
     "output_type": "stream",
     "text": [
      "<class 'pandas.core.frame.DataFrame'>\n",
      "RangeIndex: 31746 entries, 0 to 31745\n",
      "Data columns (total 15 columns):\n",
      " #   Column                Non-Null Count  Dtype  \n",
      "---  ------                --------------  -----  \n",
      " 0   id                    31746 non-null  int64  \n",
      " 1   job_title             31746 non-null  object \n",
      " 2   location              31746 non-null  object \n",
      " 3   salary_currency       31742 non-null  object \n",
      " 4   career_level          31746 non-null  object \n",
      " 5   experience_level      27454 non-null  object \n",
      " 6   education_level       31746 non-null  object \n",
      " 7   employment_type       30402 non-null  object \n",
      " 8   job_function          31746 non-null  object \n",
      " 9   job_benefits          25079 non-null  object \n",
      " 10  company_process_time  22602 non-null  object \n",
      " 11  company_size          26583 non-null  object \n",
      " 12  company_industry      30232 non-null  object \n",
      " 13  job_description       31745 non-null  object \n",
      " 14  salary                6352 non-null   float64\n",
      "dtypes: float64(1), int64(1), object(13)\n",
      "memory usage: 3.6+ MB\n",
      "None\n"
     ]
    }
   ],
   "source": [
    "# info train data\n",
    "print(train_data.info())"
   ]
  },
  {
   "cell_type": "code",
   "execution_count": 10,
   "metadata": {},
   "outputs": [
    {
     "data": {
      "text/html": [
       "<div>\n",
       "<style scoped>\n",
       "    .dataframe tbody tr th:only-of-type {\n",
       "        vertical-align: middle;\n",
       "    }\n",
       "\n",
       "    .dataframe tbody tr th {\n",
       "        vertical-align: top;\n",
       "    }\n",
       "\n",
       "    .dataframe thead th {\n",
       "        text-align: right;\n",
       "    }\n",
       "</style>\n",
       "<table border=\"1\" class=\"dataframe\">\n",
       "  <thead>\n",
       "    <tr style=\"text-align: right;\">\n",
       "      <th></th>\n",
       "      <th>id</th>\n",
       "      <th>salary</th>\n",
       "    </tr>\n",
       "  </thead>\n",
       "  <tbody>\n",
       "    <tr>\n",
       "      <th>count</th>\n",
       "      <td>31746.000000</td>\n",
       "      <td>6.352000e+03</td>\n",
       "    </tr>\n",
       "    <tr>\n",
       "      <th>mean</th>\n",
       "      <td>15873.500000</td>\n",
       "      <td>7.102330e+06</td>\n",
       "    </tr>\n",
       "    <tr>\n",
       "      <th>std</th>\n",
       "      <td>9164.425159</td>\n",
       "      <td>5.935192e+06</td>\n",
       "    </tr>\n",
       "    <tr>\n",
       "      <th>min</th>\n",
       "      <td>1.000000</td>\n",
       "      <td>1.000000e+01</td>\n",
       "    </tr>\n",
       "    <tr>\n",
       "      <th>25%</th>\n",
       "      <td>7937.250000</td>\n",
       "      <td>4.250000e+06</td>\n",
       "    </tr>\n",
       "    <tr>\n",
       "      <th>50%</th>\n",
       "      <td>15873.500000</td>\n",
       "      <td>5.500000e+06</td>\n",
       "    </tr>\n",
       "    <tr>\n",
       "      <th>75%</th>\n",
       "      <td>23809.750000</td>\n",
       "      <td>8.000000e+06</td>\n",
       "    </tr>\n",
       "    <tr>\n",
       "      <th>max</th>\n",
       "      <td>31746.000000</td>\n",
       "      <td>1.150000e+08</td>\n",
       "    </tr>\n",
       "  </tbody>\n",
       "</table>\n",
       "</div>"
      ],
      "text/plain": [
       "                 id        salary\n",
       "count  31746.000000  6.352000e+03\n",
       "mean   15873.500000  7.102330e+06\n",
       "std     9164.425159  5.935192e+06\n",
       "min        1.000000  1.000000e+01\n",
       "25%     7937.250000  4.250000e+06\n",
       "50%    15873.500000  5.500000e+06\n",
       "75%    23809.750000  8.000000e+06\n",
       "max    31746.000000  1.150000e+08"
      ]
     },
     "execution_count": 10,
     "metadata": {},
     "output_type": "execute_result"
    }
   ],
   "source": [
    "# describe train data\n",
    "train_data.describe()# fak harus di convert dulu ke int karena semuanya object"
   ]
  },
  {
   "cell_type": "markdown",
   "metadata": {},
   "source": [
    "harus di convert dulu datanya menjadi numeric agar bisa di kalkulasi bestie\n",
    "- convert ke numeric\n",
    "- corelation field terhadap y field\n",
    "- cut field yg mendekati 0\n",
    "- scaling data pada x field\n",
    "- Nentuin data yg mana dipakai testing and training\n",
    "- model selection (anggap linear regresion)\n",
    "- diskusi metode yang akan digunakan untuk training data pada linear regresion ()\n",
    "    - apakah closed form (normal equstion) atau gradient descent (gdsc,sgd, dll)\n",
    "- evaluasi ( repeat againt sampe mendekati sempurna)    "
   ]
  },
  {
   "cell_type": "code",
   "execution_count": 11,
   "metadata": {},
   "outputs": [
    {
     "name": "stdout",
     "output_type": "stream",
     "text": [
      "      id  job_title location salary_currency  \\\n",
      "0  31747  Sous Chef   Lombok             IDR   \n",
      "\n",
      "                               career_level experience_level  \\\n",
      "0  Pegawai (non-manajemen & non-supervisor)          8 tahun   \n",
      "\n",
      "                                     education_level employment_type  \\\n",
      "0  Sertifikat Professional, D3 (Diploma), D4 (Dip...     Penuh Waktu   \n",
      "\n",
      "                                        job_function job_benefits  \\\n",
      "0  Hotel/Restoran,Makanan/Minuman/Pelayanan Restoran          NaN   \n",
      "\n",
      "  company_process_time company_size                     company_industry  \\\n",
      "0                  NaN          NaN  Makanan & Minuman/Katering/Restoran   \n",
      "\n",
      "                                     job_description  \n",
      "0  Candidate must posses at least bachelor degree...  \n"
     ]
    }
   ],
   "source": [
    "# cek predict case\n",
    "print(predict_case.head(1))"
   ]
  },
  {
   "cell_type": "code",
   "execution_count": 12,
   "metadata": {},
   "outputs": [
    {
     "name": "stdout",
     "output_type": "stream",
     "text": [
      "<class 'pandas.core.frame.DataFrame'>\n",
      "RangeIndex: 3000 entries, 0 to 2999\n",
      "Data columns (total 14 columns):\n",
      " #   Column                Non-Null Count  Dtype \n",
      "---  ------                --------------  ----- \n",
      " 0   id                    3000 non-null   int64 \n",
      " 1   job_title             3000 non-null   object\n",
      " 2   location              3000 non-null   object\n",
      " 3   salary_currency       3000 non-null   object\n",
      " 4   career_level          3000 non-null   object\n",
      " 5   experience_level      2751 non-null   object\n",
      " 6   education_level       3000 non-null   object\n",
      " 7   employment_type       3000 non-null   object\n",
      " 8   job_function          3000 non-null   object\n",
      " 9   job_benefits          2251 non-null   object\n",
      " 10  company_process_time  1953 non-null   object\n",
      " 11  company_size          2520 non-null   object\n",
      " 12  company_industry      2900 non-null   object\n",
      " 13  job_description       3000 non-null   object\n",
      "dtypes: int64(1), object(13)\n",
      "memory usage: 328.2+ KB\n",
      "None\n"
     ]
    }
   ],
   "source": [
    "print(predict_case.info())"
   ]
  },
  {
   "cell_type": "code",
   "execution_count": 13,
   "metadata": {},
   "outputs": [
    {
     "name": "stdout",
     "output_type": "stream",
     "text": [
      "     id,salary\n",
      "0  10000,43873\n"
     ]
    }
   ],
   "source": [
    "# sample submmision\n",
    "print(sample_sibmission.head(1))"
   ]
  },
  {
   "cell_type": "code",
   "execution_count": 14,
   "metadata": {},
   "outputs": [
    {
     "name": "stdout",
     "output_type": "stream",
     "text": [
      "salary    1.000000\n",
      "id        0.012024\n",
      "Name: salary, dtype: float64\n"
     ]
    }
   ],
   "source": [
    "# coba liat corelation matching y field\n",
    "corelation =train_data.corr()\n",
    "print(corelation[\"salary\"].sort_values(ascending=False))\n",
    "# haha "
   ]
  },
  {
   "cell_type": "code",
   "execution_count": 15,
   "metadata": {},
   "outputs": [
    {
     "name": "stdout",
     "output_type": "stream",
     "text": [
      "<class 'pandas.core.frame.DataFrame'>\n",
      "RangeIndex: 31746 entries, 0 to 31745\n",
      "Data columns (total 13 columns):\n",
      " #   Column                Non-Null Count  Dtype \n",
      "---  ------                --------------  ----- \n",
      " 0   job_title             31746 non-null  object\n",
      " 1   location              31746 non-null  object\n",
      " 2   salary_currency       31742 non-null  object\n",
      " 3   career_level          31746 non-null  object\n",
      " 4   experience_level      27454 non-null  object\n",
      " 5   education_level       31746 non-null  object\n",
      " 6   employment_type       30402 non-null  object\n",
      " 7   job_function          31746 non-null  object\n",
      " 8   job_benefits          25079 non-null  object\n",
      " 9   company_process_time  22602 non-null  object\n",
      " 10  company_size          26583 non-null  object\n",
      " 11  company_industry      30232 non-null  object\n",
      " 12  job_description       31745 non-null  object\n",
      "dtypes: object(13)\n",
      "memory usage: 3.1+ MB\n",
      "None\n"
     ]
    }
   ],
   "source": [
    "kepo = train_data.drop([\"id\",\"salary\"],axis=1)\n",
    "print(kepo.info())\n"
   ]
  },
  {
   "cell_type": "code",
   "execution_count": 16,
   "metadata": {},
   "outputs": [
    {
     "name": "stdout",
     "output_type": "stream",
     "text": [
      "Sales Executive                        273\n",
      "Management Trainee                     166\n",
      "Accounting Staff                       113\n",
      "Sales                                  112\n",
      "Sales Engineer                         101\n",
      "                                      ... \n",
      "Senior Corporate Strategy Officer        1\n",
      "Senior Audit (Penempatan : Jakarta)      1\n",
      "Teknisi Mesin Bakery                     1\n",
      "PHOTOGRAPH EDITOR                        1\n",
      "Foreman Warehouse & Logistic             1\n",
      "Name: job_title, Length: 19260, dtype: int64\n"
     ]
    }
   ],
   "source": [
    "# import pandas as pd\n",
    "# pd.set_option(\"display.max_rows\",None)\n",
    "print(kepo[\"job_title\"].value_counts())"
   ]
  },
  {
   "cell_type": "code",
   "execution_count": 17,
   "metadata": {},
   "outputs": [
    {
     "name": "stdout",
     "output_type": "stream",
     "text": [
      "Jakarta Raya          7551\n",
      "Jakarta Selatan       2365\n",
      "Jakarta Barat         1753\n",
      "Tangerang             1752\n",
      "Jakarta Utara         1453\n",
      "                      ... \n",
      "Belitung                 1\n",
      "Sampang                  1\n",
      "Tapanuli                 1\n",
      "Karangasem               1\n",
      "Hulu Sungai Tengah       1\n",
      "Name: location, Length: 199, dtype: int64\n"
     ]
    }
   ],
   "source": [
    "print(kepo[\"location\"].value_counts())"
   ]
  },
  {
   "cell_type": "code",
   "execution_count": 18,
   "metadata": {},
   "outputs": [
    {
     "name": "stdout",
     "output_type": "stream",
     "text": [
      "IDR    31731\n",
      "USD       11\n",
      "Name: salary_currency, dtype: int64\n"
     ]
    }
   ],
   "source": [
    "print(kepo[\"salary_currency\"].value_counts())"
   ]
  },
  {
   "cell_type": "code",
   "execution_count": 19,
   "metadata": {},
   "outputs": [
    {
     "name": "stdout",
     "output_type": "stream",
     "text": [
      "Pegawai (non-manajemen & non-supervisor)             17566\n",
      "Supervisor/Koordinator                                5943\n",
      "Manajer/Asisten Manajer                               4181\n",
      "Lulusan baru/Pengalaman kerja kurang dari 1 tahun     2211\n",
      "Tidak Terspesifikasi                                  1399\n",
      "CEO/GM/Direktur/Manajer Senior                         446\n",
      "Name: career_level, dtype: int64\n"
     ]
    }
   ],
   "source": [
    "print(kepo[\"career_level\"].value_counts())"
   ]
  },
  {
   "cell_type": "code",
   "execution_count": 20,
   "metadata": {},
   "outputs": [
    {
     "name": "stdout",
     "output_type": "stream",
     "text": [
      "1 tahun                9766\n",
      "2 tahun                7667\n",
      "3 tahun                5113\n",
      "5 tahun                2935\n",
      "4 tahun                 840\n",
      "10 tahun                382\n",
      "7 tahun                 250\n",
      "8 tahun                 220\n",
      "6 tahun                 157\n",
      "15 tahun                 62\n",
      "12 tahun                 25\n",
      "9 tahun                  11\n",
      "20 tahun                  9\n",
      "Lebih dari 20 Tahun       5\n",
      "14 tahun                  3\n",
      "16 tahun                  3\n",
      "11 tahun                  2\n",
      "13 tahun                  2\n",
      "18 tahun                  1\n",
      "17 tahun                  1\n",
      "Name: experience_level, dtype: int64\n"
     ]
    }
   ],
   "source": [
    "print(kepo[\"experience_level\"].value_counts())"
   ]
  },
  {
   "cell_type": "code",
   "execution_count": 21,
   "metadata": {},
   "outputs": [
    {
     "name": "stdout",
     "output_type": "stream",
     "text": [
      "Sarjana (S1)                                                                                                                      10340\n",
      "Sertifikat Professional, D3 (Diploma), D4 (Diploma), Sarjana (S1)                                                                  5504\n",
      "Tidak terspesifikasi                                                                                                               5282\n",
      "SMA, SMU/SMK/STM, Sertifikat Professional, D3 (Diploma), D4 (Diploma), Sarjana (S1)                                                2733\n",
      "SMA, SMU/SMK/STM                                                                                                                   2096\n",
      "Sarjana (S1), Diploma Pascasarjana, Gelar Professional, Magister (S2)                                                              2092\n",
      "Sertifikat Professional, D3 (Diploma), D4 (Diploma)                                                                                1683\n",
      "Sertifikat Professional, D3 (Diploma), D4 (Diploma), Sarjana (S1), Diploma Pascasarjana, Gelar Professional, Magister (S2)          856\n",
      "SMA, SMU/SMK/STM, Sertifikat Professional, D3 (Diploma), D4 (Diploma)                                                               754\n",
      "SMA, SMU/SMK/STM, Sarjana (S1)                                                                                                      125\n",
      "Diploma Pascasarjana, Gelar Professional, Magister (S2)                                                                              94\n",
      "Sarjana (S1), Diploma Pascasarjana, Gelar Professional, Magister (S2), Doktor (S3)                                                   93\n",
      "Diploma Pascasarjana, Gelar Professional, Magister (S2), Doktor (S3)                                                                 31\n",
      "Sertifikat Professional, D3 (Diploma), D4 (Diploma), Diploma Pascasarjana, Gelar Professional, Magister (S2)                         17\n",
      "SMA, SMU/SMK/STM, Sarjana (S1), Diploma Pascasarjana, Gelar Professional, Magister (S2)                                              13\n",
      "Sarjana (S1), Doktor (S3)                                                                                                            10\n",
      "Doktor (S3)                                                                                                                          10\n",
      "Sarjana (S1), Diploma Pascasarjana, Gelar Professional                                                                                5\n",
      "SMA, SMU/SMK/STM, Sertifikat Professional, D3 (Diploma), D4 (Diploma), Diploma Pascasarjana, Gelar Professional, Magister (S2)        5\n",
      "Sertifikat Professional, D3 (Diploma), D4 (Diploma), Sarjana (S1), Doktor (S3)                                                        2\n",
      "SMA, SMU/SMK/STM, Sarjana (S1), Doktor (S3)                                                                                           1\n",
      "Name: education_level, dtype: int64\n"
     ]
    }
   ],
   "source": [
    "print(kepo[\"education_level\"].value_counts())"
   ]
  },
  {
   "cell_type": "code",
   "execution_count": 22,
   "metadata": {},
   "outputs": [
    {
     "name": "stdout",
     "output_type": "stream",
     "text": [
      "Penuh Waktu                 25940\n",
      "Kontrak                      3846\n",
      "Paruh Waktu                   272\n",
      "Magang                        193\n",
      "Temporer                      112\n",
      "Penuh Waktu, Kontrak           35\n",
      "Temporer, Magang                2\n",
      "Penuh Waktu, Magang             1\n",
      "Penuh Waktu, Paruh Waktu        1\n",
      "Name: employment_type, dtype: int64\n"
     ]
    }
   ],
   "source": [
    "print(kepo[\"employment_type\"].value_counts())"
   ]
  },
  {
   "cell_type": "code",
   "execution_count": 23,
   "metadata": {},
   "outputs": [
    {
     "name": "stdout",
     "output_type": "stream",
     "text": [
      "Penjualan / Pemasaran,Penjualan Ritel                      3428\n",
      "Komputer/Teknologi Informasi,IT-Perangkat Lunak            2419\n",
      "Penjualan / Pemasaran,Pemasaran/Pengembangan Bisnis        2268\n",
      "Akuntansi / Keuangan,Akuntansi Umum / Pembiayaan           1990\n",
      "Sumber Daya Manusia/Personalia,Sumber Daya Manusia / HR    1327\n",
      "                                                           ... \n",
      "Sains,Biomedis                                               15\n",
      "Lainnya,Penerbitan                                           14\n",
      "Manufaktur,Kontrol Proses                                    13\n",
      "Sains,Bioteknologi                                            9\n",
      "Sains,Penerbangan                                             4\n",
      "Name: job_function, Length: 68, dtype: int64\n"
     ]
    }
   ],
   "source": [
    "print(kepo[\"job_function\"].value_counts())"
   ]
  },
  {
   "cell_type": "code",
   "execution_count": 24,
   "metadata": {},
   "outputs": [
    {
     "name": "stdout",
     "output_type": "stream",
     "text": [
      "Asuransi kesehatan;Waktu regular, Senin - Jumat;Bisnis (contoh: Kemeja)                                                                                          2000\n",
      "Tip;Asuransi kesehatan;Waktu regular, Senin - Jumat;Bisnis (contoh: Kemeja)                                                                                       719\n",
      "Asuransi kesehatan;Waktu regular, Senin - Jumat;Kasual (contoh: Kaos)                                                                                             709\n",
      "Waktu regular, Senin - Jumat;Bisnis (contoh: Kemeja)                                                                                                              674\n",
      "Asuransi kesehatan;Bisnis (contoh: Kemeja)                                                                                                                        598\n",
      "                                                                                                                                                                 ... \n",
      "Tunjangan Pendidikan;Asuransi kesehatan;Penglihatan;Waktu regular, Senin - Jumat;Kasual (contoh: Kaos)                                                              1\n",
      "Asuransi Gigi;Tunjangan Pendidikan;Tip;Asuransi kesehatan;Pinjaman;Olahraga (contoh: pusat kebugaran);Parkir;Penglihatan;Waktu regular, Senin - Jumat;uniform       1\n",
      "Bisnis (contoh: Kemeja);-;shift                                                                                                                                     1\n",
      "Tip;Formil (contoh: Kemeja + Dasi);THR;Monday-Saturday                                                                                                              1\n",
      "Tunjangan Pendidikan;Pinjaman;Bisnis (contoh: Kemeja);THR;Monday-Saturday                                                                                           1\n",
      "Name: job_benefits, Length: 2978, dtype: int64\n"
     ]
    }
   ],
   "source": [
    "print(kepo[\"job_benefits\"].value_counts())"
   ]
  },
  {
   "cell_type": "code",
   "execution_count": 25,
   "metadata": {},
   "outputs": [
    {
     "name": "stdout",
     "output_type": "stream",
     "text": [
      "29 days    4231\n",
      "28 days    2909\n",
      "27 days    1692\n",
      "26 days    1632\n",
      "25 days    1241\n",
      "24 days    1188\n",
      "21 days    1037\n",
      "30 days     814\n",
      "22 days     713\n",
      "23 days     650\n",
      "16 days     567\n",
      "19 days     564\n",
      "20 days     505\n",
      "17 days     460\n",
      "14 days     444\n",
      "12 days     391\n",
      "18 days     377\n",
      "13 days     340\n",
      "1 day       318\n",
      "2 days      289\n",
      "9 days      288\n",
      "11 days     281\n",
      "6 days      242\n",
      "3 days      231\n",
      "4 days      224\n",
      "15 days     224\n",
      "7 days      219\n",
      "5 days      187\n",
      "8 days      182\n",
      "10 days     162\n",
      "Name: company_process_time, dtype: int64\n"
     ]
    }
   ],
   "source": [
    "print(kepo[\"company_process_time\"].value_counts())"
   ]
  },
  {
   "cell_type": "code",
   "execution_count": 26,
   "metadata": {},
   "outputs": [
    {
     "name": "stdout",
     "output_type": "stream",
     "text": [
      "51 - 200 pekerja           6931\n",
      "1- 50 pekerja              4845\n",
      "201 - 500 pekerja          4043\n",
      "501 - 1000 pekerja         3233\n",
      "2001 - 5000 pekerja        2622\n",
      "Lebih dari 5000 pekerja    2594\n",
      "1001 - 2000 pekerja        2315\n",
      "Name: company_size, dtype: int64\n"
     ]
    }
   ],
   "source": [
    "print(kepo[\"company_size\"].value_counts())"
   ]
  },
  {
   "cell_type": "code",
   "execution_count": 27,
   "metadata": {},
   "outputs": [
    {
     "name": "stdout",
     "output_type": "stream",
     "text": [
      "Manufaktur/Produksi                                     2775\n",
      "Retail/Merchandise                                      2278\n",
      "Perbankan/Pelayanan Keuangan                            2090\n",
      "Makanan & Minuman/Katering/Restoran                     1706\n",
      "Umum & Grosir                                           1588\n",
      "Komputer/Teknik Informatika (Perangkat Lunak)           1572\n",
      "Produk Konsumen/Barang konsumen yang bergerak cepat     1431\n",
      "Kesehatan/Medis                                         1292\n",
      "Transportasi/Logistik                                   1136\n",
      "Manajemen/Konsulting HR                                 1100\n",
      "Pendidikan                                              1034\n",
      "Konstruksi/Bangunan/Teknik                               884\n",
      "Properti/Real Estate                                     872\n",
      "Automobil/Mesin Tambahan Automotif/Kendaraan             734\n",
      "Konsultasi (IT, Ilmu Pengetahuan, Teknis & Teknikal)     723\n",
      "Lainnya                                                  670\n",
      "Agrikultural/Perkebunan/Peternakan Unggas/Perikanan      665\n",
      "Asuransi                                                 651\n",
      "Telekomunikasi                                           629\n",
      "Elektrikal & Elektronik                                  519\n",
      "Konsultasi (Bisnis & Manajemen)                          518\n",
      "Perawatan/Kecantikan/Fitnes                              500\n",
      "Industri Berat/Mesin/Peralatan                           474\n",
      "BioTeknologi/Farmasi/Riset klinik                        392\n",
      "Pertambangan                                             345\n",
      "Komputer/Teknik Informatika (Perangkat Keras)            287\n",
      "Akunting / Audit / Layanan Pajak                         285\n",
      "Periklanan/Marketing/Promosi/Hubungan Masyarakat         260\n",
      "Pelayanan Arsitek/Desain Interior                        249\n",
      "Hiburan/Media                                            235\n",
      "Minyak/Gas/Petroleum                                     227\n",
      "Hotel/Pariwisata                                         225\n",
      "Tekstil/Garment                                          221\n",
      "Bahan Kimia/Pupuk/Pestisida                              221\n",
      "Percetakan/Penerbitan                                    158\n",
      "Seni/Desain/Fashion                                      153\n",
      "Polymer/Plastik/Karet/Ban                                112\n",
      "Pelayanan Perbaikan & Pemeliharaan                        91\n",
      "Jurnalisme                                                84\n",
      "Pakaian                                                   82\n",
      "Call Center/IT-Enabled Services/BPO                       80\n",
      "Organisasi Nirlaba/Pelayanan Sosial/LSM                   75\n",
      "Kayu/Fiber/Kertas                                         69\n",
      "Travel/Pariwisata                                         65\n",
      "Ilmu Pengetahuan & Teknologi                              63\n",
      "Layanan Umum/Tenaga Penggerak                             61\n",
      "Lingkungan/Kesehatan/Keamanan                             60\n",
      "Hukum/Legal                                               52\n",
      "Pameran/Manajemen acara/PIKP                              51\n",
      "Kelautan/Aquakultur                                       42\n",
      "Keamanan/Penegak hukum                                    37\n",
      "Tembakau                                                  28\n",
      "Jual Beli Saham/Sekuritas                                 20\n",
      "Permata/Perhiasan                                         19\n",
      "Olahraga                                                  16\n",
      "Luar Angkasa/Aviasi/Pesawat Terbang                       15\n",
      "Pemerintahan/Pertahanan                                   10\n",
      "R&D                                                        1\n",
      "Name: company_industry, dtype: int64\n"
     ]
    }
   ],
   "source": [
    "print(kepo[\"company_industry\"].value_counts())"
   ]
  },
  {
   "cell_type": "code",
   "execution_count": 28,
   "metadata": {},
   "outputs": [
    {
     "name": "stdout",
     "output_type": "stream",
     "text": [
      "0        Deskripsi PekerjaanRequirements :D3/SI from re...\n",
      "1        Job Role: 1. Responsible for material availabi...\n",
      "2        Internal Sales & AdminJob Description :We are ...\n",
      "3        Job Description:Responsible for HSE implementa...\n",
      "4        Overview: Our clients is manufacture for autom...\n",
      "                               ...                        \n",
      "31741    Key Responsibilities :Conduct audits to review...\n",
      "31742    KRITERIA dan SYARATS1 Tehnik Industri, Statisi...\n",
      "31743    Tanggung jawab:Mengumpulkan, menganalisa kebut...\n",
      "31744    1.      Protect All Aspects of Your Source Cod...\n",
      "31745    Your responsibilities:The job of an H&M Mainte...\n",
      "Name: job_description, Length: 31746, dtype: object\n"
     ]
    }
   ],
   "source": [
    "print(kepo[\"job_description\"]) # fix ni has bean slain sih "
   ]
  }
 ],
 "metadata": {
  "interpreter": {
   "hash": "7e8f3344581b59a1f858ba6e3a5baff315b945b56ca2de45624d8430f0d29c18"
  },
  "kernelspec": {
   "display_name": "Python 3.9.9 ('env': venv)",
   "language": "python",
   "name": "python3"
  },
  "language_info": {
   "codemirror_mode": {
    "name": "ipython",
    "version": 3
   },
   "file_extension": ".py",
   "mimetype": "text/x-python",
   "name": "python",
   "nbconvert_exporter": "python",
   "pygments_lexer": "ipython3",
   "version": "3.9.9"
  },
  "orig_nbformat": 4
 },
 "nbformat": 4,
 "nbformat_minor": 2
}
