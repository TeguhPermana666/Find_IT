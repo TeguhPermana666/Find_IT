{
 "cells": [
  {
   "cell_type": "markdown",
   "metadata": {},
   "source": [
    "# Team\n",
    "- Agung Adipurwa\n",
    "- Teguh\n",
    "- Angelina"
   ]
  },
  {
   "cell_type": "markdown",
   "metadata": {},
   "source": [
    "# Load Data"
   ]
  },
  {
   "cell_type": "code",
<<<<<<< Updated upstream
   "execution_count": 200,
=======
   "execution_count": 102,
>>>>>>> Stashed changes
   "metadata": {},
   "outputs": [],
   "source": [
    "# load data\n",
    "import os\n",
    "import urllib.request\n",
    "soal_path=os.path.join(\"datasets\",\"FindIT\")\n",
    "download_url=\"https://www.kaggle.com/competitions/findit2022/data\"\n",
    "def fetch_data(url=download_url,path=soal_path):\n",
    "    if not os.path.isdir(path):\n",
    "        os.makedirs(path)\n",
    "    for filename in (\"predict-case.csv\",\"sample_submission.csv\",\"train.csv\"):\n",
    "        file_path=os.path.join(path,filename)\n",
    "        if not os.path.isfile(file_path):\n",
    "            print(\"Download\",filename)\n",
    "            urllib.request.urlretrieve(url + filename,file_path)\n",
    "  \n"
   ]
  },
  {
   "cell_type": "code",
<<<<<<< Updated upstream
   "execution_count": 201,
=======
   "execution_count": 103,
>>>>>>> Stashed changes
   "metadata": {},
   "outputs": [],
   "source": [
    "# download data\n",
    "fetch_data()"
   ]
  },
  {
   "cell_type": "code",
<<<<<<< Updated upstream
   "execution_count": 202,
=======
   "execution_count": 104,
>>>>>>> Stashed changes
   "metadata": {},
   "outputs": [],
   "source": [
    "# call data\n",
    "import pandas as pd\n",
    "def load_soal_data(name,path=soal_path):\n",
    "    csv_path=os.path.join(path,name)\n",
    "    return pd.read_csv(csv_path, delimiter='|')"
   ]
  },
  {
   "cell_type": "code",
<<<<<<< Updated upstream
   "execution_count": 203,
=======
   "execution_count": 105,
>>>>>>> Stashed changes
   "metadata": {},
   "outputs": [],
   "source": [
    "predict_case=load_soal_data(\"predict-case.csv\")\n",
    "sample_submission=load_soal_data(\"sample_submission.csv\")\n",
    "train_data=load_soal_data(\"train.csv\")"
   ]
  },
  {
   "cell_type": "markdown",
   "metadata": {},
   "source": [
    "# EDA"
   ]
  },
  {
   "cell_type": "code",
<<<<<<< Updated upstream
   "execution_count": 204,
=======
   "execution_count": 106,
>>>>>>> Stashed changes
   "metadata": {},
   "outputs": [
    {
     "name": "stdout",
     "output_type": "stream",
     "text": [
      "(3000, 14)\n",
      "(3000, 1)\n",
      "(31746, 15)\n"
     ]
    }
   ],
   "source": [
    "print(predict_case.shape)\n",
    "print(sample_submission.shape)\n",
    "print(train_data.shape)"
   ]
  },
  {
   "cell_type": "code",
<<<<<<< Updated upstream
   "execution_count": 205,
=======
   "execution_count": 107,
>>>>>>> Stashed changes
   "metadata": {},
   "outputs": [
    {
     "name": "stdout",
     "output_type": "stream",
     "text": [
      "salary                  25394\n",
      "company_process_time     9144\n",
      "job_benefits             6667\n",
      "company_size             5163\n",
      "experience_level         4292\n",
      "company_industry         1514\n",
      "employment_type          1344\n",
      "salary_currency             4\n",
      "job_description             1\n",
      "id                          0\n",
      "job_title                   0\n",
      "location                    0\n",
      "career_level                0\n",
      "education_level             0\n",
      "job_function                0\n",
      "dtype: int64\n"
     ]
    },
    {
     "name": "stderr",
     "output_type": "stream",
     "text": [
<<<<<<< Updated upstream
      "d:\\Find_IT\\env\\lib\\site-packages\\seaborn\\_decorators.py:36: FutureWarning: Pass the following variables as keyword args: x, y. From version 0.12, the only valid positional argument will be `data`, and passing other arguments without an explicit keyword will result in an error or misinterpretation.\n",
=======
      "C:\\Users\\user\\AppData\\Local\\Programs\\Python\\Python310\\lib\\site-packages\\seaborn\\_decorators.py:36: FutureWarning: Pass the following variables as keyword args: x, y. From version 0.12, the only valid positional argument will be `data`, and passing other arguments without an explicit keyword will result in an error or misinterpretation.\n",
>>>>>>> Stashed changes
      "  warnings.warn(\n"
     ]
    },
    {
     "data": {
      "text/plain": [
       "Text(0.5, 1.0, 'Counts of Missing Value: Data Train')"
      ]
     },
<<<<<<< Updated upstream
     "execution_count": 205,
=======
     "execution_count": 107,
>>>>>>> Stashed changes
     "metadata": {},
     "output_type": "execute_result"
    },
    {
     "data": {
      "image/png": "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",
      "text/plain": [
       "<Figure size 576x576 with 1 Axes>"
      ]
     },
     "metadata": {
      "needs_background": "light"
     },
     "output_type": "display_data"
    }
   ],
   "source": [
    "#Check NaN value in train_data\n",
    "import matplotlib.pyplot as plt\n",
    "import seaborn as sns\n",
    "y = train_data.isnull().sum().sort_values(ascending=False)[:].index\n",
    "x = train_data.isnull().sum().sort_values(ascending=False)[:]\n",
    "print(x)\n",
    "plt.figure(figsize=(8, 8))\n",
    "sns.barplot(x, y)\n",
    "plt.title(\"Counts of Missing Value: Data Train\", size=20)\n"
   ]
  },
  {
   "cell_type": "code",
<<<<<<< Updated upstream
   "execution_count": 206,
=======
   "execution_count": 108,
>>>>>>> Stashed changes
   "metadata": {},
   "outputs": [
    {
     "name": "stdout",
     "output_type": "stream",
     "text": [
      "company_process_time    1047\n",
      "job_benefits             749\n",
      "company_size             480\n",
      "experience_level         249\n",
      "company_industry         100\n",
      "id                         0\n",
      "job_title                  0\n",
      "location                   0\n",
      "salary_currency            0\n",
      "career_level               0\n",
      "education_level            0\n",
      "employment_type            0\n",
      "job_function               0\n",
      "job_description            0\n",
      "dtype: int64\n"
     ]
    },
    {
     "name": "stderr",
     "output_type": "stream",
     "text": [
<<<<<<< Updated upstream
      "d:\\Find_IT\\env\\lib\\site-packages\\seaborn\\_decorators.py:36: FutureWarning: Pass the following variables as keyword args: x, y. From version 0.12, the only valid positional argument will be `data`, and passing other arguments without an explicit keyword will result in an error or misinterpretation.\n",
=======
      "C:\\Users\\user\\AppData\\Local\\Programs\\Python\\Python310\\lib\\site-packages\\seaborn\\_decorators.py:36: FutureWarning: Pass the following variables as keyword args: x, y. From version 0.12, the only valid positional argument will be `data`, and passing other arguments without an explicit keyword will result in an error or misinterpretation.\n",
>>>>>>> Stashed changes
      "  warnings.warn(\n"
     ]
    },
    {
     "data": {
      "text/plain": [
       "Text(0.5, 1.0, 'Counts of Missing Value: Data Train')"
      ]
     },
<<<<<<< Updated upstream
     "execution_count": 206,
=======
     "execution_count": 108,
>>>>>>> Stashed changes
     "metadata": {},
     "output_type": "execute_result"
    },
    {
     "data": {
      "image/png": "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",
      "text/plain": [
       "<Figure size 576x576 with 1 Axes>"
      ]
     },
     "metadata": {
      "needs_background": "light"
     },
     "output_type": "display_data"
    }
   ],
   "source": [
    "#Check NaN value in test_data\n",
    "y = predict_case.isnull().sum().sort_values(ascending=False)[:].index\n",
    "x = predict_case.isnull().sum().sort_values(ascending=False)[:]\n",
    "print(x)\n",
    "plt.figure(figsize=(8, 8))\n",
    "sns.barplot(x, y)\n",
    "plt.title(\"Counts of Missing Value: Data Train\", size=20)\n"
   ]
  },
  {
   "cell_type": "code",
<<<<<<< Updated upstream
   "execution_count": 207,
=======
   "execution_count": 109,
>>>>>>> Stashed changes
   "metadata": {},
   "outputs": [
    {
     "data": {
      "text/plain": [
       "18343"
      ]
     },
<<<<<<< Updated upstream
     "execution_count": 207,
=======
     "execution_count": 109,
>>>>>>> Stashed changes
     "metadata": {},
     "output_type": "execute_result"
    }
   ],
   "source": [
    "train_data[\"job_title\"] = train_data[\"job_title\"].apply(lambda item: str(item).lower())\n",
    "len(train_data[\"job_title\"].unique())\n"
   ]
  },
  {
   "cell_type": "code",
<<<<<<< Updated upstream
   "execution_count": 208,
=======
   "execution_count": 110,
>>>>>>> Stashed changes
   "metadata": {},
   "outputs": [
    {
     "data": {
      "text/plain": [
       "sales executive            312\n",
       "management trainee         168\n",
       "sales                      151\n",
       "marketing                  132\n",
       "sales engineer             129\n",
       "accounting staff           126\n",
       "digital marketing          106\n",
       "graphic designer           101\n",
       "sales marketing             98\n",
       "content creator             92\n",
       "barista                     84\n",
       "staff accounting            83\n",
       "accounting                  83\n",
       "crew outlet                 81\n",
       "project manager             79\n",
       "sales manager               79\n",
       "account executive           76\n",
       "marketing executive         70\n",
       "sales supervisor            63\n",
       "marketing manager           59\n",
       "it support                  56\n",
       "account manager             55\n",
       "it programmer               50\n",
       "social media specialist     49\n",
       "medical representative      49\n",
       "teknisi                     48\n",
       "admin                       47\n",
       "business development        46\n",
       "asisten apoteker            46\n",
       "finance staff               44\n",
       "Name: job_title, dtype: int64"
      ]
     },
<<<<<<< Updated upstream
     "execution_count": 208,
=======
     "execution_count": 110,
>>>>>>> Stashed changes
     "metadata": {},
     "output_type": "execute_result"
    }
   ],
   "source": [
    "train_data[\"job_title\"].value_counts()[:30]"
   ]
  },
  {
   "cell_type": "code",
<<<<<<< Updated upstream
   "execution_count": 209,
=======
   "execution_count": 111,
>>>>>>> Stashed changes
   "metadata": {},
   "outputs": [
    {
     "data": {
      "text/plain": [
       "199"
      ]
     },
<<<<<<< Updated upstream
     "execution_count": 209,
=======
     "execution_count": 111,
>>>>>>> Stashed changes
     "metadata": {},
     "output_type": "execute_result"
    }
   ],
   "source": [
    "train_data[\"location\"] = train_data[\"location\"].apply(\n",
    "    lambda item: str(item).lower())\n",
    "len(train_data[\"location\"].unique())"
   ]
  },
  {
   "cell_type": "code",
<<<<<<< Updated upstream
   "execution_count": 210,
=======
   "execution_count": 112,
>>>>>>> Stashed changes
   "metadata": {},
   "outputs": [
    {
     "data": {
      "text/plain": [
       "jakarta raya          7551\n",
       "jakarta selatan       2365\n",
       "jakarta barat         1753\n",
       "tangerang             1752\n",
       "jakarta utara         1453\n",
       "jakarta pusat         1216\n",
       "surabaya              1163\n",
       "bandung                831\n",
       "bekasi                 677\n",
       "bali                   668\n",
       "jawa barat             668\n",
       "jakarta timur          639\n",
       "semarang               581\n",
       "jawa timur             487\n",
       "bogor                  433\n",
       "cikarang               428\n",
       "yogyakarta             428\n",
       "banten                 423\n",
       "medan                  423\n",
       "jawa tengah            411\n",
       "aceh                   391\n",
       "denpasar               284\n",
       "batam                  258\n",
       "makassar               232\n",
       "depok                  224\n",
       "sidoarjo               208\n",
       "karawang               207\n",
       "kalimantan barat       200\n",
       "badung                 195\n",
       "malang                 192\n",
       "sumatera utara         184\n",
       "palembang              183\n",
       "balikpapan             170\n",
       "jambi                  163\n",
       "pekanbaru              162\n",
       "surakarta              138\n",
       "banjarmasin            130\n",
       "pontianak              122\n",
       "serang                 116\n",
       "sleman                 116\n",
       "kalimantan selatan     114\n",
       "sumatera selatan       108\n",
       "gresik                 106\n",
       "cirebon                102\n",
       "samarinda              100\n",
       "cikupa                  94\n",
       "kalimantan timur        88\n",
       "bengkulu                85\n",
       "papua                   82\n",
       "pasuruan                81\n",
       "kediri                  80\n",
       "lampung                 78\n",
       "mojokerto               75\n",
       "sulawesi selatan        74\n",
       "padang                  72\n",
       "purwokerto              64\n",
       "jember                  61\n",
       "kalimantan tengah       59\n",
       "manado                  58\n",
       "purwakarta              57\n",
       "Name: location, dtype: int64"
      ]
     },
<<<<<<< Updated upstream
     "execution_count": 210,
=======
     "execution_count": 112,
>>>>>>> Stashed changes
     "metadata": {},
     "output_type": "execute_result"
    }
   ],
   "source": [
    "train_data[\"location\"].value_counts()[:60]\n"
   ]
  },
  {
   "cell_type": "code",
<<<<<<< Updated upstream
   "execution_count": 211,
=======
   "execution_count": 113,
>>>>>>> Stashed changes
   "metadata": {},
   "outputs": [
    {
     "data": {
      "text/plain": [
       "penuh waktu                 25940\n",
       "kontrak                      3846\n",
       "nan                          1344\n",
       "paruh waktu                   272\n",
       "magang                        193\n",
       "temporer                      112\n",
       "penuh waktu, kontrak           35\n",
       "temporer, magang                2\n",
       "penuh waktu, magang             1\n",
       "penuh waktu, paruh waktu        1\n",
       "Name: employment_type, dtype: int64"
      ]
     },
<<<<<<< Updated upstream
     "execution_count": 211,
=======
     "execution_count": 113,
>>>>>>> Stashed changes
     "metadata": {},
     "output_type": "execute_result"
    }
   ],
   "source": [
    "train_data[\"employment_type\"] = train_data[\"employment_type\"].apply(\n",
    "    lambda item: str(item).lower())\n",
    "len(train_data[\"employment_type\"].unique())\n",
    "train_data[\"employment_type\"].value_counts()[:60]\n"
   ]
  },
  {
   "cell_type": "code",
<<<<<<< Updated upstream
   "execution_count": 212,
=======
   "execution_count": 114,
>>>>>>> Stashed changes
   "metadata": {},
   "outputs": [
    {
     "data": {
      "text/plain": [
       "<AxesSubplot:>"
      ]
     },
<<<<<<< Updated upstream
     "execution_count": 212,
=======
     "execution_count": 114,
>>>>>>> Stashed changes
     "metadata": {},
     "output_type": "execute_result"
    },
    {
     "data": {
      "image/png": "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",
      "text/plain": [
       "<Figure size 432x288 with 1 Axes>"
      ]
     },
     "metadata": {
      "needs_background": "light"
     },
     "output_type": "display_data"
    }
   ],
   "source": [
    "train_data[\"employment_type\"].value_counts().plot(kind=\"bar\",)\n"
   ]
  },
  {
   "cell_type": "code",
<<<<<<< Updated upstream
   "execution_count": 213,
=======
   "execution_count": 115,
>>>>>>> Stashed changes
   "metadata": {},
   "outputs": [
    {
     "data": {
      "text/plain": [
       "idr    31731\n",
       "usd       11\n",
       "nan        4\n",
       "Name: salary_currency, dtype: int64"
      ]
     },
<<<<<<< Updated upstream
     "execution_count": 213,
=======
     "execution_count": 115,
>>>>>>> Stashed changes
     "metadata": {},
     "output_type": "execute_result"
    }
   ],
   "source": [
    "train_data[\"salary_currency\"] = train_data[\"salary_currency\"].apply(\n",
    "    lambda item: str(item).lower())\n",
    "len(train_data[\"salary_currency\"].unique())\n",
    "train_data[\"salary_currency\"].value_counts()[:60]"
   ]
  },
  {
   "cell_type": "markdown",
   "metadata": {},
   "source": [
    "# Cleaning Data"
   ]
  },
  {
   "cell_type": "code",
<<<<<<< Updated upstream
   "execution_count": 214,
=======
   "execution_count": 116,
>>>>>>> Stashed changes
   "metadata": {},
   "outputs": [],
   "source": [
    "#Cleaning All NaN rows in field salary\n",
    "temp_train = train_data.dropna(subset=[\"employment_type\"])\n",
    "drop_NaN_train = [\"company_industry\", \"experience_level\",\n",
    "                  \"company_size\", \"job_benefits\", \"company_process_time\", \"salary\"]\n",
    "for i in drop_NaN_train:\n",
    "    temp_train = temp_train.dropna(subset=i)\n",
    "temp_test = predict_case.dropna(subset=[\"company_industry\"])\n",
    "drop_NaN_test = [\"company_industry\", \"experience_level\",\n",
    "                 \"company_size\", \"job_benefits\", \"company_process_time\"]\n",
    "for i in drop_NaN_test:\n",
    "    temp_test = temp_test.dropna(subset=i)\n"
   ]
  },
  {
   "cell_type": "code",
<<<<<<< Updated upstream
   "execution_count": 215,
=======
   "execution_count": 117,
>>>>>>> Stashed changes
   "metadata": {},
   "outputs": [
    {
     "name": "stdout",
     "output_type": "stream",
     "text": [
      "Clean Train Data\n",
      "id                      0\n",
      "job_title               0\n",
      "location                0\n",
      "salary_currency         0\n",
      "career_level            0\n",
      "experience_level        0\n",
      "education_level         0\n",
      "employment_type         0\n",
      "job_function            0\n",
      "job_benefits            0\n",
      "company_process_time    0\n",
      "company_size            0\n",
      "company_industry        0\n",
      "job_description         0\n",
      "salary                  0\n",
      "dtype: int64\n",
<<<<<<< Updated upstream
      "Clean Test Data\n",
=======
      "Clean Train Data\n",
>>>>>>> Stashed changes
      "id                      0\n",
      "job_title               0\n",
      "location                0\n",
      "salary_currency         0\n",
      "career_level            0\n",
      "experience_level        0\n",
      "education_level         0\n",
      "employment_type         0\n",
      "job_function            0\n",
      "job_benefits            0\n",
      "company_process_time    0\n",
      "company_size            0\n",
      "company_industry        0\n",
      "job_description         0\n",
      "dtype: int64\n"
     ]
    }
   ],
   "source": [
    "print(\"Clean Train Data\\n{}\".format(\n",
    "    temp_train.isnull().sum().sort_values(ascending=False)[:]))\n",
    "print(\"Clean Test Data\\n{}\".format(\n",
    "    temp_test.isnull().sum().sort_values(ascending=False)[:]))\n"
   ]
  },
  {
   "cell_type": "code",
<<<<<<< Updated upstream
   "execution_count": 216,
=======
   "execution_count": 118,
>>>>>>> Stashed changes
   "metadata": {},
   "outputs": [
    {
     "name": "stdout",
     "output_type": "stream",
     "text": [
      "(3440, 15)\n",
      "(1604, 14)\n"
     ]
    }
   ],
   "source": [
    "print(temp_train.shape)\n",
    "print(temp_test.shape)"
   ]
  },
  {
   "cell_type": "code",
<<<<<<< Updated upstream
   "execution_count": 217,
=======
   "execution_count": 119,
   "metadata": {},
   "outputs": [],
   "source": [
    "temp_train['company_process_time'] = temp_train['company_process_time'].str[:2]\n"
   ]
  },
  {
   "cell_type": "code",
   "execution_count": 120,
   "metadata": {},
   "outputs": [],
   "source": [
    "temp_train['company_process_time'] = temp_train['company_process_time'].astype(int)"
   ]
  },
  {
   "cell_type": "code",
   "execution_count": 121,
   "metadata": {},
   "outputs": [],
   "source": [
    "temp_train['experience_level'] = temp_train['experience_level'].str[:2]"
   ]
  },
  {
   "cell_type": "code",
   "execution_count": 122,
   "metadata": {},
   "outputs": [],
   "source": [
    "temp_train['experience_level'] = temp_train['experience_level'].astype(int)"
   ]
  },
  {
   "cell_type": "code",
   "execution_count": 123,
>>>>>>> Stashed changes
   "metadata": {},
   "outputs": [
    {
     "data": {
      "text/html": [
       "<div>\n",
       "<style scoped>\n",
       "    .dataframe tbody tr th:only-of-type {\n",
       "        vertical-align: middle;\n",
       "    }\n",
       "\n",
       "    .dataframe tbody tr th {\n",
       "        vertical-align: top;\n",
       "    }\n",
       "\n",
       "    .dataframe thead th {\n",
       "        text-align: right;\n",
       "    }\n",
       "</style>\n",
       "<table border=\"1\" class=\"dataframe\">\n",
       "  <thead>\n",
       "    <tr style=\"text-align: right;\">\n",
       "      <th></th>\n",
       "      <th>id</th>\n",
       "      <th>job_title</th>\n",
       "      <th>location</th>\n",
       "      <th>salary_currency</th>\n",
       "      <th>career_level</th>\n",
       "      <th>experience_level</th>\n",
       "      <th>education_level</th>\n",
       "      <th>employment_type</th>\n",
       "      <th>job_function</th>\n",
       "      <th>job_benefits</th>\n",
       "      <th>company_process_time</th>\n",
       "      <th>company_size</th>\n",
       "      <th>company_industry</th>\n",
       "      <th>job_description</th>\n",
       "      <th>salary</th>\n",
       "    </tr>\n",
       "  </thead>\n",
       "  <tbody>\n",
       "    <tr>\n",
       "      <th>9</th>\n",
       "      <td>10</td>\n",
       "      <td>tax supervisor</td>\n",
       "      <td>banten</td>\n",
       "      <td>idr</td>\n",
       "      <td>Supervisor/Koordinator</td>\n",
<<<<<<< Updated upstream
       "      <td>3 tahun</td>\n",
=======
       "      <td>3</td>\n",
>>>>>>> Stashed changes
       "      <td>Sertifikat Professional, D3 (Diploma), D4 (Dip...</td>\n",
       "      <td>penuh waktu</td>\n",
       "      <td>Akuntansi / Keuangan,Audit &amp; Pajak</td>\n",
       "      <td>Tip;Asuransi kesehatan;Waktu regular, Senin - ...</td>\n",
<<<<<<< Updated upstream
       "      <td>22 days</td>\n",
=======
       "      <td>22</td>\n",
>>>>>>> Stashed changes
       "      <td>51 - 200 pekerja</td>\n",
       "      <td>Konstruksi/Bangunan/Teknik</td>\n",
       "      <td>ResponsibilitiesPrepare corporate income tax (...</td>\n",
       "      <td>8000000.0</td>\n",
       "    </tr>\n",
       "    <tr>\n",
       "      <th>22</th>\n",
       "      <td>23</td>\n",
       "      <td>senior staff purchasing</td>\n",
       "      <td>surabaya</td>\n",
       "      <td>idr</td>\n",
       "      <td>Pegawai (non-manajemen &amp; non-supervisor)</td>\n",
<<<<<<< Updated upstream
       "      <td>2 tahun</td>\n",
=======
       "      <td>2</td>\n",
>>>>>>> Stashed changes
       "      <td>Sertifikat Professional, D3 (Diploma), D4 (Dip...</td>\n",
       "      <td>penuh waktu</td>\n",
       "      <td>Manufaktur,Pembelian/Manajemen Material</td>\n",
       "      <td>Asuransi kesehatan;Jam Bekerja yang Panjang;Bi...</td>\n",
<<<<<<< Updated upstream
       "      <td>29 days</td>\n",
=======
       "      <td>29</td>\n",
>>>>>>> Stashed changes
       "      <td>1- 50 pekerja</td>\n",
       "      <td>Elektrikal &amp; Elektronik</td>\n",
       "      <td>Deskripsi Pekerjaan:Mampu melakukan rencana pe...</td>\n",
       "      <td>5250000.0</td>\n",
       "    </tr>\n",
       "    <tr>\n",
       "      <th>26</th>\n",
       "      <td>27</td>\n",
       "      <td>marketing communication &amp; channel manager</td>\n",
       "      <td>jakarta pusat</td>\n",
       "      <td>idr</td>\n",
       "      <td>Manajer/Asisten Manajer</td>\n",
<<<<<<< Updated upstream
       "      <td>2 tahun</td>\n",
=======
       "      <td>2</td>\n",
>>>>>>> Stashed changes
       "      <td>Tidak terspesifikasi</td>\n",
       "      <td>penuh waktu</td>\n",
       "      <td>Penjualan / Pemasaran,Pemasaran/Pengembangan B...</td>\n",
       "      <td>Asuransi Gigi;Asuransi kesehatan;Parkir;Waktu ...</td>\n",
<<<<<<< Updated upstream
       "      <td>29 days</td>\n",
=======
       "      <td>29</td>\n",
>>>>>>> Stashed changes
       "      <td>51 - 200 pekerja</td>\n",
       "      <td>Konsultasi (IT, Ilmu Pengetahuan, Teknis &amp; Tek...</td>\n",
       "      <td>SCOPE OF ROLE :To plan, develop, implement and...</td>\n",
       "      <td>15000000.0</td>\n",
       "    </tr>\n",
       "    <tr>\n",
       "      <th>31</th>\n",
       "      <td>32</td>\n",
       "      <td>ppic</td>\n",
       "      <td>tangerang</td>\n",
       "      <td>idr</td>\n",
       "      <td>Manajer/Asisten Manajer</td>\n",
<<<<<<< Updated upstream
       "      <td>5 tahun</td>\n",
=======
       "      <td>5</td>\n",
>>>>>>> Stashed changes
       "      <td>Sarjana (S1)</td>\n",
       "      <td>penuh waktu</td>\n",
       "      <td>Manufaktur,Manufaktur</td>\n",
       "      <td>Asuransi kesehatan;Waktu regular, Senin - Juma...</td>\n",
<<<<<<< Updated upstream
       "      <td>21 days</td>\n",
=======
       "      <td>21</td>\n",
>>>>>>> Stashed changes
       "      <td>201 - 500 pekerja</td>\n",
       "      <td>Manufaktur/Produksi</td>\n",
       "      <td>Tanggung Jawab:Membuat perencanaan produksi be...</td>\n",
       "      <td>6600000.0</td>\n",
       "    </tr>\n",
       "    <tr>\n",
       "      <th>34</th>\n",
       "      <td>35</td>\n",
       "      <td>c# advanced/senior developer</td>\n",
       "      <td>jakarta timur</td>\n",
       "      <td>idr</td>\n",
       "      <td>Supervisor/Koordinator</td>\n",
<<<<<<< Updated upstream
       "      <td>2 tahun</td>\n",
=======
       "      <td>2</td>\n",
>>>>>>> Stashed changes
       "      <td>SMA, SMU/SMK/STM, Sertifikat Professional, D3 ...</td>\n",
       "      <td>penuh waktu</td>\n",
       "      <td>Komputer/Teknologi Informasi,IT-Perangkat Lunak</td>\n",
       "      <td>Tip;Asuransi kesehatan;Waktu regular, Senin - ...</td>\n",
<<<<<<< Updated upstream
       "      <td>5 days</td>\n",
=======
       "      <td>5</td>\n",
>>>>>>> Stashed changes
       "      <td>1- 50 pekerja</td>\n",
       "      <td>Komputer/Teknik Informatika (Perangkat Lunak)</td>\n",
       "      <td>Kualifikasi:Kandidat harus memiliki setidaknya...</td>\n",
       "      <td>9500000.0</td>\n",
       "    </tr>\n",
<<<<<<< Updated upstream
       "    <tr>\n",
       "      <th>...</th>\n",
       "      <td>...</td>\n",
       "      <td>...</td>\n",
       "      <td>...</td>\n",
       "      <td>...</td>\n",
       "      <td>...</td>\n",
       "      <td>...</td>\n",
       "      <td>...</td>\n",
       "      <td>...</td>\n",
       "      <td>...</td>\n",
       "      <td>...</td>\n",
       "      <td>...</td>\n",
       "      <td>...</td>\n",
       "      <td>...</td>\n",
       "      <td>...</td>\n",
       "      <td>...</td>\n",
       "    </tr>\n",
       "    <tr>\n",
       "      <th>31673</th>\n",
       "      <td>31674</td>\n",
       "      <td>chef de partie</td>\n",
       "      <td>jakarta raya</td>\n",
       "      <td>idr</td>\n",
       "      <td>Supervisor/Koordinator</td>\n",
       "      <td>2 tahun</td>\n",
       "      <td>Sertifikat Professional, D3 (Diploma), D4 (Dip...</td>\n",
       "      <td>penuh waktu</td>\n",
       "      <td>Hotel/Restoran,Makanan/Minuman/Pelayanan Restoran</td>\n",
       "      <td>Tip;Asuransi kesehatan;Pinjaman;Parkir;Jam Bek...</td>\n",
       "      <td>29 days</td>\n",
       "      <td>51 - 200 pekerja</td>\n",
       "      <td>Hotel/Pariwisata</td>\n",
       "      <td>Job Description:Strong experienced in various ...</td>\n",
       "      <td>4208095.0</td>\n",
       "    </tr>\n",
       "    <tr>\n",
       "      <th>31707</th>\n",
       "      <td>31708</td>\n",
       "      <td>it specialist</td>\n",
       "      <td>karawang</td>\n",
       "      <td>idr</td>\n",
       "      <td>Supervisor/Koordinator</td>\n",
       "      <td>5 tahun</td>\n",
       "      <td>Sertifikat Professional, D3 (Diploma), D4 (Dip...</td>\n",
       "      <td>penuh waktu</td>\n",
       "      <td>Komputer/Teknologi Informasi,IT-Admin Jaringan...</td>\n",
       "      <td>Asuransi kesehatan;Waktu regular, Senin - Juma...</td>\n",
       "      <td>27 days</td>\n",
       "      <td>Lebih dari 5000 pekerja</td>\n",
       "      <td>Manufaktur/Produksi</td>\n",
       "      <td>Job Description :Troubleshoot issues, ensure n...</td>\n",
       "      <td>8500000.0</td>\n",
       "    </tr>\n",
       "    <tr>\n",
       "      <th>31719</th>\n",
       "      <td>31720</td>\n",
       "      <td>sales - bandung</td>\n",
       "      <td>bandung</td>\n",
       "      <td>idr</td>\n",
       "      <td>Pegawai (non-manajemen &amp; non-supervisor)</td>\n",
       "      <td>1 tahun</td>\n",
       "      <td>SMA, SMU/SMK/STM, Sertifikat Professional, D3 ...</td>\n",
       "      <td>penuh waktu</td>\n",
       "      <td>Penjualan / Pemasaran,Penjualan Ritel</td>\n",
       "      <td>Asuransi kesehatan;Jam Bekerja yang Panjang;Bi...</td>\n",
       "      <td>20 days</td>\n",
       "      <td>1- 50 pekerja</td>\n",
       "      <td>Retail/Merchandise</td>\n",
       "      <td>Tanggung Jawab :Menjaga dan meningkatkan volum...</td>\n",
       "      <td>5100000.0</td>\n",
       "    </tr>\n",
       "    <tr>\n",
       "      <th>31732</th>\n",
       "      <td>31733</td>\n",
       "      <td>area business development associate - madiun</td>\n",
       "      <td>madiun</td>\n",
       "      <td>idr</td>\n",
       "      <td>Supervisor/Koordinator</td>\n",
       "      <td>1 tahun</td>\n",
       "      <td>SMA, SMU/SMK/STM, Sertifikat Professional, D3 ...</td>\n",
       "      <td>penuh waktu</td>\n",
       "      <td>Penjualan / Pemasaran,Penjualan Ritel</td>\n",
       "      <td>Kasual (contoh: Kaos)</td>\n",
       "      <td>21 days</td>\n",
       "      <td>51 - 200 pekerja</td>\n",
       "      <td>Komputer/Teknik Informatika (Perangkat Keras)</td>\n",
       "      <td>SummaryAs an Area Business Development Associa...</td>\n",
       "      <td>8000000.0</td>\n",
       "    </tr>\n",
       "    <tr>\n",
       "      <th>31744</th>\n",
       "      <td>31745</td>\n",
       "      <td>developer security operation (devsecops)</td>\n",
       "      <td>jakarta pusat</td>\n",
       "      <td>idr</td>\n",
       "      <td>Pegawai (non-manajemen &amp; non-supervisor)</td>\n",
       "      <td>2 tahun</td>\n",
       "      <td>Sarjana (S1)</td>\n",
       "      <td>penuh waktu</td>\n",
       "      <td>Komputer/Teknologi Informasi,IT-Admin Jaringan...</td>\n",
       "      <td>Tip;Asuransi kesehatan;Parkir;Waktu regular, S...</td>\n",
       "      <td>18 days</td>\n",
       "      <td>201 - 500 pekerja</td>\n",
       "      <td>Komputer/Teknik Informatika (Perangkat Lunak)</td>\n",
       "      <td>1.      Protect All Aspects of Your Source Cod...</td>\n",
       "      <td>7500000.0</td>\n",
       "    </tr>\n",
       "  </tbody>\n",
       "</table>\n",
       "<p>3440 rows × 15 columns</p>\n",
       "</div>"
      ],
      "text/plain": [
       "          id                                     job_title       location  \\\n",
       "9         10                                tax supervisor         banten   \n",
       "22        23                       senior staff purchasing       surabaya   \n",
       "26        27     marketing communication & channel manager  jakarta pusat   \n",
       "31        32                                          ppic      tangerang   \n",
       "34        35                  c# advanced/senior developer  jakarta timur   \n",
       "...      ...                                           ...            ...   \n",
       "31673  31674                                chef de partie   jakarta raya   \n",
       "31707  31708                                 it specialist       karawang   \n",
       "31719  31720                               sales - bandung        bandung   \n",
       "31732  31733  area business development associate - madiun         madiun   \n",
       "31744  31745      developer security operation (devsecops)  jakarta pusat   \n",
       "\n",
       "      salary_currency                              career_level  \\\n",
       "9                 idr                    Supervisor/Koordinator   \n",
       "22                idr  Pegawai (non-manajemen & non-supervisor)   \n",
       "26                idr                   Manajer/Asisten Manajer   \n",
       "31                idr                   Manajer/Asisten Manajer   \n",
       "34                idr                    Supervisor/Koordinator   \n",
       "...               ...                                       ...   \n",
       "31673             idr                    Supervisor/Koordinator   \n",
       "31707             idr                    Supervisor/Koordinator   \n",
       "31719             idr  Pegawai (non-manajemen & non-supervisor)   \n",
       "31732             idr                    Supervisor/Koordinator   \n",
       "31744             idr  Pegawai (non-manajemen & non-supervisor)   \n",
       "\n",
       "      experience_level                                    education_level  \\\n",
       "9              3 tahun  Sertifikat Professional, D3 (Diploma), D4 (Dip...   \n",
       "22             2 tahun  Sertifikat Professional, D3 (Diploma), D4 (Dip...   \n",
       "26             2 tahun                               Tidak terspesifikasi   \n",
       "31             5 tahun                                       Sarjana (S1)   \n",
       "34             2 tahun  SMA, SMU/SMK/STM, Sertifikat Professional, D3 ...   \n",
       "...                ...                                                ...   \n",
       "31673          2 tahun  Sertifikat Professional, D3 (Diploma), D4 (Dip...   \n",
       "31707          5 tahun  Sertifikat Professional, D3 (Diploma), D4 (Dip...   \n",
       "31719          1 tahun  SMA, SMU/SMK/STM, Sertifikat Professional, D3 ...   \n",
       "31732          1 tahun  SMA, SMU/SMK/STM, Sertifikat Professional, D3 ...   \n",
       "31744          2 tahun                                       Sarjana (S1)   \n",
       "\n",
       "      employment_type                                       job_function  \\\n",
       "9         penuh waktu                 Akuntansi / Keuangan,Audit & Pajak   \n",
       "22        penuh waktu            Manufaktur,Pembelian/Manajemen Material   \n",
       "26        penuh waktu  Penjualan / Pemasaran,Pemasaran/Pengembangan B...   \n",
       "31        penuh waktu                              Manufaktur,Manufaktur   \n",
       "34        penuh waktu    Komputer/Teknologi Informasi,IT-Perangkat Lunak   \n",
       "...               ...                                                ...   \n",
       "31673     penuh waktu  Hotel/Restoran,Makanan/Minuman/Pelayanan Restoran   \n",
       "31707     penuh waktu  Komputer/Teknologi Informasi,IT-Admin Jaringan...   \n",
       "31719     penuh waktu              Penjualan / Pemasaran,Penjualan Ritel   \n",
       "31732     penuh waktu              Penjualan / Pemasaran,Penjualan Ritel   \n",
       "31744     penuh waktu  Komputer/Teknologi Informasi,IT-Admin Jaringan...   \n",
       "\n",
       "                                            job_benefits company_process_time  \\\n",
       "9      Tip;Asuransi kesehatan;Waktu regular, Senin - ...              22 days   \n",
       "22     Asuransi kesehatan;Jam Bekerja yang Panjang;Bi...              29 days   \n",
       "26     Asuransi Gigi;Asuransi kesehatan;Parkir;Waktu ...              29 days   \n",
       "31     Asuransi kesehatan;Waktu regular, Senin - Juma...              21 days   \n",
       "34     Tip;Asuransi kesehatan;Waktu regular, Senin - ...               5 days   \n",
       "...                                                  ...                  ...   \n",
       "31673  Tip;Asuransi kesehatan;Pinjaman;Parkir;Jam Bek...              29 days   \n",
       "31707  Asuransi kesehatan;Waktu regular, Senin - Juma...              27 days   \n",
       "31719  Asuransi kesehatan;Jam Bekerja yang Panjang;Bi...              20 days   \n",
       "31732                              Kasual (contoh: Kaos)              21 days   \n",
       "31744  Tip;Asuransi kesehatan;Parkir;Waktu regular, S...              18 days   \n",
       "\n",
       "                  company_size  \\\n",
       "9             51 - 200 pekerja   \n",
       "22               1- 50 pekerja   \n",
       "26            51 - 200 pekerja   \n",
       "31           201 - 500 pekerja   \n",
       "34               1- 50 pekerja   \n",
       "...                        ...   \n",
       "31673         51 - 200 pekerja   \n",
       "31707  Lebih dari 5000 pekerja   \n",
       "31719            1- 50 pekerja   \n",
       "31732         51 - 200 pekerja   \n",
       "31744        201 - 500 pekerja   \n",
       "\n",
       "                                        company_industry  \\\n",
       "9                             Konstruksi/Bangunan/Teknik   \n",
       "22                               Elektrikal & Elektronik   \n",
       "26     Konsultasi (IT, Ilmu Pengetahuan, Teknis & Tek...   \n",
       "31                                   Manufaktur/Produksi   \n",
       "34         Komputer/Teknik Informatika (Perangkat Lunak)   \n",
       "...                                                  ...   \n",
       "31673                                   Hotel/Pariwisata   \n",
       "31707                                Manufaktur/Produksi   \n",
       "31719                                 Retail/Merchandise   \n",
       "31732      Komputer/Teknik Informatika (Perangkat Keras)   \n",
       "31744      Komputer/Teknik Informatika (Perangkat Lunak)   \n",
       "\n",
       "                                         job_description      salary  \n",
       "9      ResponsibilitiesPrepare corporate income tax (...   8000000.0  \n",
       "22     Deskripsi Pekerjaan:Mampu melakukan rencana pe...   5250000.0  \n",
       "26     SCOPE OF ROLE :To plan, develop, implement and...  15000000.0  \n",
       "31     Tanggung Jawab:Membuat perencanaan produksi be...   6600000.0  \n",
       "34     Kualifikasi:Kandidat harus memiliki setidaknya...   9500000.0  \n",
       "...                                                  ...         ...  \n",
       "31673  Job Description:Strong experienced in various ...   4208095.0  \n",
       "31707  Job Description :Troubleshoot issues, ensure n...   8500000.0  \n",
       "31719  Tanggung Jawab :Menjaga dan meningkatkan volum...   5100000.0  \n",
       "31732  SummaryAs an Area Business Development Associa...   8000000.0  \n",
       "31744  1.      Protect All Aspects of Your Source Cod...   7500000.0  \n",
       "\n",
       "[3440 rows x 15 columns]"
      ]
     },
     "execution_count": 217,
     "metadata": {},
     "output_type": "execute_result"
    }
   ],
   "source": [
    "temp_train"
   ]
  },
  {
   "cell_type": "markdown",
   "metadata": {},
   "source": [
    "Train data rubah si usd salary dan currenct salary  "
   ]
  },
  {
   "cell_type": "code",
   "execution_count": 218,
   "metadata": {},
   "outputs": [],
   "source": [
    "temp_train.loc[(temp_train[\"salary_currency\"]==\"usd\"),\"salary\"]=temp_train[temp_train[\"salary_currency\"]==\"usd\"][[\"salary\"]].apply(lambda i : i * 14000 )"
   ]
  },
  {
   "cell_type": "code",
   "execution_count": 219,
   "metadata": {},
   "outputs": [
    {
     "data": {
      "text/plain": [
       "162    9310000.0\n",
       "Name: salary, dtype: float64"
      ]
     },
     "execution_count": 219,
     "metadata": {},
     "output_type": "execute_result"
    }
   ],
   "source": [
    "temp_train[temp_train[\"salary_currency\"]==\"usd\"][\"salary\"]"
   ]
  },
  {
   "cell_type": "code",
   "execution_count": 220,
   "metadata": {},
   "outputs": [],
   "source": [
    "temp_train.loc[(temp_train[\"salary_currency\"]==\"usd\"),\"salary_currency\"]=\"idr\""
   ]
  },
  {
   "cell_type": "code",
   "execution_count": 222,
   "metadata": {},
   "outputs": [
    {
     "data": {
      "text/plain": [
       "Series([], Name: salary_currency, dtype: object)"
      ]
     },
     "execution_count": 222,
     "metadata": {},
     "output_type": "execute_result"
    }
   ],
   "source": [
    "temp_train[temp_train[\"salary_currency\"]==\"usd\"][\"salary_currency\"]"
   ]
  },
  {
   "cell_type": "markdown",
   "metadata": {},
   "source": [
    "Test data rubah salary_currency"
   ]
  },
  {
   "cell_type": "code",
   "execution_count": 227,
   "metadata": {},
   "outputs": [
    {
     "data": {
      "text/plain": [
       "Series([], Name: salary_currency, dtype: object)"
      ]
     },
     "execution_count": 227,
=======
       "  </tbody>\n",
       "</table>\n",
       "</div>"
      ],
      "text/plain": [
       "    id                                  job_title       location  \\\n",
       "9   10                             tax supervisor         banten   \n",
       "22  23                    senior staff purchasing       surabaya   \n",
       "26  27  marketing communication & channel manager  jakarta pusat   \n",
       "31  32                                       ppic      tangerang   \n",
       "34  35               c# advanced/senior developer  jakarta timur   \n",
       "\n",
       "   salary_currency                              career_level  \\\n",
       "9              idr                    Supervisor/Koordinator   \n",
       "22             idr  Pegawai (non-manajemen & non-supervisor)   \n",
       "26             idr                   Manajer/Asisten Manajer   \n",
       "31             idr                   Manajer/Asisten Manajer   \n",
       "34             idr                    Supervisor/Koordinator   \n",
       "\n",
       "    experience_level                                    education_level  \\\n",
       "9                  3  Sertifikat Professional, D3 (Diploma), D4 (Dip...   \n",
       "22                 2  Sertifikat Professional, D3 (Diploma), D4 (Dip...   \n",
       "26                 2                               Tidak terspesifikasi   \n",
       "31                 5                                       Sarjana (S1)   \n",
       "34                 2  SMA, SMU/SMK/STM, Sertifikat Professional, D3 ...   \n",
       "\n",
       "   employment_type                                       job_function  \\\n",
       "9      penuh waktu                 Akuntansi / Keuangan,Audit & Pajak   \n",
       "22     penuh waktu            Manufaktur,Pembelian/Manajemen Material   \n",
       "26     penuh waktu  Penjualan / Pemasaran,Pemasaran/Pengembangan B...   \n",
       "31     penuh waktu                              Manufaktur,Manufaktur   \n",
       "34     penuh waktu    Komputer/Teknologi Informasi,IT-Perangkat Lunak   \n",
       "\n",
       "                                         job_benefits  company_process_time  \\\n",
       "9   Tip;Asuransi kesehatan;Waktu regular, Senin - ...                    22   \n",
       "22  Asuransi kesehatan;Jam Bekerja yang Panjang;Bi...                    29   \n",
       "26  Asuransi Gigi;Asuransi kesehatan;Parkir;Waktu ...                    29   \n",
       "31  Asuransi kesehatan;Waktu regular, Senin - Juma...                    21   \n",
       "34  Tip;Asuransi kesehatan;Waktu regular, Senin - ...                     5   \n",
       "\n",
       "         company_size                                   company_industry  \\\n",
       "9    51 - 200 pekerja                         Konstruksi/Bangunan/Teknik   \n",
       "22      1- 50 pekerja                            Elektrikal & Elektronik   \n",
       "26   51 - 200 pekerja  Konsultasi (IT, Ilmu Pengetahuan, Teknis & Tek...   \n",
       "31  201 - 500 pekerja                                Manufaktur/Produksi   \n",
       "34      1- 50 pekerja      Komputer/Teknik Informatika (Perangkat Lunak)   \n",
       "\n",
       "                                      job_description      salary  \n",
       "9   ResponsibilitiesPrepare corporate income tax (...   8000000.0  \n",
       "22  Deskripsi Pekerjaan:Mampu melakukan rencana pe...   5250000.0  \n",
       "26  SCOPE OF ROLE :To plan, develop, implement and...  15000000.0  \n",
       "31  Tanggung Jawab:Membuat perencanaan produksi be...   6600000.0  \n",
       "34  Kualifikasi:Kandidat harus memiliki setidaknya...   9500000.0  "
      ]
     },
     "execution_count": 123,
>>>>>>> Stashed changes
     "metadata": {},
     "output_type": "execute_result"
    }
   ],
   "source": [
<<<<<<< Updated upstream
    "temp_test[temp_test[\"salary_currency\"]==\"usd\"][\"salary_currency\"]"
=======
    "temp_train.head()"
>>>>>>> Stashed changes
   ]
  }
 ],
 "metadata": {
  "interpreter": {
   "hash": "7e8f3344581b59a1f858ba6e3a5baff315b945b56ca2de45624d8430f0d29c18"
  },
  "kernelspec": {
   "display_name": "Python 3.9.9 ('env': venv)",
   "language": "python",
   "name": "python3"
  },
  "language_info": {
   "codemirror_mode": {
    "name": "ipython",
    "version": 3
   },
   "file_extension": ".py",
   "mimetype": "text/x-python",
   "name": "python",
   "nbconvert_exporter": "python",
   "pygments_lexer": "ipython3",
<<<<<<< Updated upstream
   "version": "3.9.9"
=======
   "version": "3.10.4"
>>>>>>> Stashed changes
  },
  "orig_nbformat": 4
 },
 "nbformat": 4,
 "nbformat_minor": 2
}
