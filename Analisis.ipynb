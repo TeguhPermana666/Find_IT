{
 "cells": [
  {
   "cell_type": "markdown",
   "metadata": {},
   "source": [
    "# Team\n",
    "- Agung Adipurwa\n",
    "- Teguh\n",
    "- Angelina"
   ]
  },
  {
   "cell_type": "markdown",
   "metadata": {},
   "source": [
    "# Load Data"
   ]
  },
  {
   "cell_type": "code",
   "execution_count": 1,
   "metadata": {},
   "outputs": [],
   "source": [
    "# load data\n",
    "import os\n",
    "import urllib.request\n",
    "soal_path=os.path.join(\"datasets\",\"FindIT\")\n",
    "download_url=\"https://www.kaggle.com/competitions/findit2022/data\"\n",
    "def fetch_data(url=download_url,path=soal_path):\n",
    "    if not os.path.isdir(path):\n",
    "        os.makedirs(path)\n",
    "    for filename in (\"predict-case.csv\",\"sample_submission.csv\",\"train.csv\"):\n",
    "        file_path=os.path.join(path,filename)\n",
    "        if not os.path.isfile(file_path):\n",
    "            print(\"Download\",filename)\n",
    "            urllib.request.urlretrieve(url + filename,file_path)\n",
    "  \n"
   ]
  },
  {
   "cell_type": "code",
   "execution_count": 2,
   "metadata": {},
   "outputs": [],
   "source": [
    "# download data\n",
    "fetch_data()"
   ]
  },
  {
   "cell_type": "code",
   "execution_count": 3,
   "metadata": {},
   "outputs": [],
   "source": [
    "# call data\n",
    "import pandas as pd\n",
    "def load_soal_data(name,path=soal_path):\n",
    "    csv_path=os.path.join(path,name)\n",
    "    return pd.read_csv(csv_path, delimiter='|')"
   ]
  },
  {
   "cell_type": "code",
   "execution_count": 4,
   "metadata": {},
   "outputs": [],
   "source": [
    "predict_case=load_soal_data(\"predict-case.csv\")\n",
    "sample_submission=load_soal_data(\"sample_submission.csv\")\n",
    "train_data=load_soal_data(\"train.csv\")"
   ]
  },
  {
   "cell_type": "markdown",
   "metadata": {},
   "source": [
    "# EDA"
   ]
  },
  {
   "cell_type": "code",
   "execution_count": 5,
   "metadata": {},
   "outputs": [
    {
     "name": "stdout",
     "output_type": "stream",
     "text": [
      "(3000, 14)\n",
      "(3000, 1)\n",
      "(31746, 15)\n"
     ]
    }
   ],
   "source": [
    "print(predict_case.shape)\n",
    "print(sample_submission.shape)\n",
    "print(train_data.shape)"
   ]
  },
  {
   "cell_type": "code",
   "execution_count": 6,
   "metadata": {},
   "outputs": [
    {
     "name": "stdout",
     "output_type": "stream",
     "text": [
      "salary                  25394\n",
      "company_process_time     9144\n",
      "job_benefits             6667\n",
      "company_size             5163\n",
      "experience_level         4292\n",
      "company_industry         1514\n",
      "employment_type          1344\n",
      "salary_currency             4\n",
      "job_description             1\n",
      "id                          0\n",
      "job_title                   0\n",
      "location                    0\n",
      "career_level                0\n",
      "education_level             0\n",
      "job_function                0\n",
      "dtype: int64\n"
     ]
    },
    {
     "name": "stderr",
     "output_type": "stream",
     "text": [
      "c:\\Dipung\\Kuliah\\DATCHAYI\\Find_IT\\venv\\lib\\site-packages\\seaborn\\_decorators.py:36: FutureWarning: Pass the following variables as keyword args: x, y. From version 0.12, the only valid positional argument will be `data`, and passing other arguments without an explicit keyword will result in an error or misinterpretation.\n",
      "  warnings.warn(\n"
     ]
    },
    {
     "data": {
      "text/plain": [
       "Text(0.5, 1.0, 'Counts of Missing Value')"
      ]
     },
     "execution_count": 6,
     "metadata": {},
     "output_type": "execute_result"
    },
    {
     "data": {
      "image/png": "[encoded data removed]",
      "text/plain": [
       "<Figure size 576x576 with 1 Axes>"
      ]
     },
     "metadata": {
      "needs_background": "light"
     },
     "output_type": "display_data"
    }
   ],
   "source": [
    "#Check NaN value in train_data\n",
    "import matplotlib.pyplot as plt\n",
    "import seaborn as sns\n",
    "y = train_data.isnull().sum().sort_values(ascending=False)[:].index\n",
    "x = train_data.isnull().sum().sort_values(ascending=False)[:]\n",
    "print(x)\n",
    "plt.figure(figsize=(8, 8))\n",
    "sns.barplot(x, y)\n",
    "plt.title(\"Counts of Missing Value: Data Train\", size=20)\n"
   ]
  },
  {
   "cell_type": "code",
   "execution_count": 7,
   "metadata": {},
   "outputs": [
    {
     "name": "stdout",
     "output_type": "stream",
     "text": [
      "company_process_time    1047\n",
      "job_benefits             749\n",
      "company_size             480\n",
      "experience_level         249\n",
      "company_industry         100\n",
      "id                         0\n",
      "job_title                  0\n",
      "location                   0\n",
      "salary_currency            0\n",
      "career_level               0\n",
      "education_level            0\n",
      "employment_type            0\n",
      "job_function               0\n",
      "job_description            0\n",
      "dtype: int64\n"
     ]
    }
   ],
   "source": [
    "#Check NaN value in test_data\n",
    "y = predict_case.isnull().sum().sort_values(ascending=False)[:].index\n",
    "x = predict_case.isnull().sum().sort_values(ascending=False)[:]\n",
    "print(x)\n",
    "plt.figure(figsize=(8, 8))\n",
    "sns.barplot(x, y)\n",
    "plt.title(\"Counts of Missing Value: Data Train\", size=20)\n"
   ]
  },
  {
   "cell_type": "code",
   "execution_count": 8,
   "metadata": {},
   "outputs": [
    {
     "data": {
      "text/plain": [
       "18343"
      ]
     },
     "execution_count": 8,
     "metadata": {},
     "output_type": "execute_result"
    }
   ],
   "source": [
    "train_data[\"job_title\"] = train_data[\"job_title\"].apply(lambda item: str(item).lower())\n",
    "len(train_data[\"job_title\"].unique())\n"
   ]
  },
  {
   "cell_type": "code",
   "execution_count": 9,
   "metadata": {},
   "outputs": [
    {
     "data": {
      "text/plain": [
       "sales executive            312\n",
       "management trainee         168\n",
       "sales                      151\n",
       "marketing                  132\n",
       "sales engineer             129\n",
       "accounting staff           126\n",
       "digital marketing          106\n",
       "graphic designer           101\n",
       "sales marketing             98\n",
       "content creator             92\n",
       "barista                     84\n",
       "staff accounting            83\n",
       "accounting                  83\n",
       "crew outlet                 81\n",
       "project manager             79\n",
       "sales manager               79\n",
       "account executive           76\n",
       "marketing executive         70\n",
       "sales supervisor            63\n",
       "marketing manager           59\n",
       "it support                  56\n",
       "account manager             55\n",
       "it programmer               50\n",
       "social media specialist     49\n",
       "medical representative      49\n",
       "teknisi                     48\n",
       "admin                       47\n",
       "business development        46\n",
       "asisten apoteker            46\n",
       "finance staff               44\n",
       "Name: job_title, dtype: int64"
      ]
     },
     "execution_count": 9,
     "metadata": {},
     "output_type": "execute_result"
    }
   ],
   "source": [
    "train_data[\"job_title\"].value_counts()[:30]"
   ]
  },
  {
   "cell_type": "code",
   "execution_count": 10,
   "metadata": {},
   "outputs": [
    {
     "data": {
      "text/plain": [
       "199"
      ]
     },
     "execution_count": 10,
     "metadata": {},
     "output_type": "execute_result"
    }
   ],
   "source": [
    "train_data[\"location\"] = train_data[\"location\"].apply(\n",
    "    lambda item: str(item).lower())\n",
    "len(train_data[\"location\"].unique())"
   ]
  },
  {
   "cell_type": "code",
   "execution_count": 11,
   "metadata": {},
   "outputs": [
    {
     "data": {
      "text/plain": [
       "penuh waktu                 25940\n",
       "kontrak                      3846\n",
       "nan                          1344\n",
       "paruh waktu                   272\n",
       "magang                        193\n",
       "temporer                      112\n",
       "penuh waktu, kontrak           35\n",
       "temporer, magang                2\n",
       "penuh waktu, magang             1\n",
       "penuh waktu, paruh waktu        1\n",
       "Name: employment_type, dtype: int64"
      ]
     },
     "execution_count": 11,
     "metadata": {},
     "output_type": "execute_result"
    }
   ],
   "source": [
    "train_data[\"location\"].value_counts()[:60]\n"
   ]
  },
  {
   "cell_type": "code",
   "execution_count": 12,
   "metadata": {},
   "outputs": [
    {
     "data": {
      "text/plain": [
       "<AxesSubplot:>"
      ]
     },
     "execution_count": 12,
     "metadata": {},
     "output_type": "execute_result"
    },
    {
     "data": {
      "image/png": "[encoded data removed]",
      "text/plain": [
       "<Figure size 432x288 with 1 Axes>"
      ]
     },
     "metadata": {
      "needs_background": "light"
     },
     "output_type": "display_data"
    }
   ],
   "source": [
    "train_data[\"employment_type\"] = train_data[\"employment_type\"].apply(\n",
    "    lambda item: str(item).lower())\n",
    "len(train_data[\"employment_type\"].unique())\n",
    "train_data[\"employment_type\"].value_counts()[:60]\n"
   ]
  },
  {
   "cell_type": "code",
   "execution_count": 13,
   "metadata": {},
   "outputs": [
    {
     "data": {
      "text/plain": [
       "<AxesSubplot:>"
      ]
     },
     "execution_count": 13,
     "metadata": {},
     "output_type": "execute_result"
    },
    {
     "data": {
      "image/png": "[encoded data removed]",
      "text/plain": [
       "<Figure size 432x288 with 1 Axes>"
      ]
     },
     "metadata": {
      "needs_background": "light"
     },
     "output_type": "display_data"
    }
   ],
   "source": [
    "train_data[\"employment_type\"].value_counts().plot(kind=\"bar\",)\n"
   ]
  },
  {
   "cell_type": "code",
   "execution_count": 14,
   "metadata": {},
   "outputs": [
    {
     "data": {
      "text/plain": [
       "idr    31731\n",
       "usd       11\n",
       "nan        4\n",
       "Name: salary_currency, dtype: int64"
      ]
     },
     "execution_count": 14,
     "metadata": {},
     "output_type": "execute_result"
    }
   ],
   "source": [
    "train_data[\"salary_currency\"] = train_data[\"salary_currency\"].apply(\n",
    "    lambda item: str(item).lower())\n",
    "len(train_data[\"salary_currency\"].unique())\n",
    "train_data[\"salary_currency\"].value_counts()[:60]"
   ]
  },
  {
   "cell_type": "markdown",
   "metadata": {},
   "source": [
    "# Cleaning Data"
   ]
  },
  {
   "cell_type": "code",
   "execution_count": 15,
   "metadata": {},
   "outputs": [],
   "source": [
    "#Cleaning All NaN rows in field salary\n",
    "temp_train = train_data.dropna(subset=[\"employment_type\"])\n",
    "drop_NaN_train = [\"company_industry\", \"experience_level\",\n",
    "                  \"company_size\", \"job_benefits\", \"company_process_time\", \"salary\"]\n",
    "for i in drop_NaN_train:\n",
    "    temp_train = temp_train.dropna(subset=i)\n",
    "temp_test = predict_case.dropna(subset=[\"company_industry\"])\n",
    "drop_NaN_test = [\"company_industry\", \"experience_level\",\n",
    "                 \"company_size\", \"job_benefits\", \"company_process_time\"]\n",
    "for i in drop_NaN_test:\n",
    "    temp_test = temp_test.dropna(subset=i)\n"
   ]
  },
  {
   "cell_type": "code",
   "execution_count": 24,
   "metadata": {},
   "outputs": [
    {
     "name": "stdout",
     "output_type": "stream",
     "text": [
      "(1604, 14)\n"
     ]
    }
   ],
   "source": [
    "print(\"Clean Train Data\\n{}\".format(\n",
    "    temp_train.isnull().sum().sort_values(ascending=False)[:]))\n",
    "print(\"Clean Train Data\\n{}\".format(\n",
    "    temp_test.isnull().sum().sort_values(ascending=False)[:]))\n"
   ]
  },
  {
   "cell_type": "code",
   "execution_count": null,
   "metadata": {},
   "outputs": [],
   "source": [
    "print(temp_train.shape)\n",
    "print(temp_test.shape)"
   ]
  }
 ],
 "metadata": {
  "interpreter": {
   "hash": "7e8f3344581b59a1f858ba6e3a5baff315b945b56ca2de45624d8430f0d29c18"
  },
  "kernelspec": {
   "display_name": "Python 3.9.9 ('env': venv)",
   "language": "python",
   "name": "python3"
  },
  "language_info": {
   "codemirror_mode": {
    "name": "ipython",
    "version": 3
   },
   "file_extension": ".py",
   "mimetype": "text/x-python",
   "name": "python",
   "nbconvert_exporter": "python",
   "pygments_lexer": "ipython3",
   "version": "3.9.1"
  },
  "orig_nbformat": 4
 },
 "nbformat": 4,
 "nbformat_minor": 2
}
